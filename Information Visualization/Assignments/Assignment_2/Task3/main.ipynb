{
 "cells": [
  {
   "cell_type": "code",
   "execution_count": 92,
   "metadata": {},
   "outputs": [],
   "source": [
    "import math\n",
    "import tkinter as tk\n",
    "import pandas as pd"
   ]
  },
  {
   "cell_type": "code",
   "execution_count": 93,
   "metadata": {},
   "outputs": [],
   "source": [
    "def nearest_tens(x_low, x_high):\n",
    "    lower = math.floor(x_low / 10) * 10\n",
    "    upper = math.ceil(x_high / 10) * 10\n",
    "    if lower == x_low:\n",
    "        lower -= 10\n",
    "    if upper == x_high:\n",
    "        upper += 10\n",
    "    return lower, upper"
   ]
  },
  {
   "cell_type": "code",
   "execution_count": 94,
   "metadata": {},
   "outputs": [],
   "source": [
    "def create_axes_with_ticks(canvas, width, height,x_low,x_high,y_low, y_high):\n",
    "    # Margin for text and ticks to be fully visible\n",
    "    m = 30 # margin\n",
    "    w = width\n",
    "    h = height\n",
    "\n",
    "    x_l,x_h = nearest_tens(x_low,x_high)\n",
    "    y_l,y_h = nearest_tens(y_low,y_high)\n",
    "\n",
    "    x_range = x_h - x_l\n",
    "    y_range = y_h - y_l\n",
    "\n",
    "\n",
    "    # Draw X and Y axes\n",
    "    axis_color = 'black'\n",
    "    canvas.create_line(2*m , h-2*m , 2*m , m ,arrow=tk.LAST, fill=axis_color) # X-axis\n",
    "    canvas.create_line(2*m , h-2*m , w - m, h-2*m ,  arrow=tk.LAST,fill=axis_color) # Y-axis\n",
    "\n",
    "    # Ticks settings\n",
    "    tick_length = 5\n",
    "    number_of_xticks = 10\n",
    "    number_of_yticks = 10\n",
    "    gap_x = (w-4*m) / number_of_xticks\n",
    "    gap_y = (h-4*m) / number_of_yticks\n",
    "\n",
    "    gap_x_value = x_range/number_of_xticks\n",
    "    gap_y_value = y_range/number_of_yticks\n",
    "    # Drawing X-axis ticks and labels\n",
    "    for i in range(number_of_xticks + 1):\n",
    "        x =  2*m +i*gap_x\n",
    "        canvas.create_line(x, h - 2*m, x, h - 2*m - tick_length, fill=axis_color)\n",
    "        canvas.create_text(x, h - 2*m + tick_length, text=str(x_l + i*gap_x_value), anchor='n', font=('Arial', 8))\n",
    "\n",
    "    # Drawing Y-axis ticks and labels\n",
    "    for i in range(number_of_yticks + 1):\n",
    "        y = h-2*m - i*gap_y\n",
    "        canvas.create_line(2*m, y, 2*m + tick_length, y, fill=axis_color)\n",
    "        canvas.create_text(2*m - tick_length, y, text=str(y_l+i*gap_y_value), anchor='e', font=('Arial', 8))\n"
   ]
  },
  {
   "cell_type": "code",
   "execution_count": 95,
   "metadata": {},
   "outputs": [],
   "source": [
    "\n"
   ]
  },
  {
   "cell_type": "code",
   "execution_count": 96,
   "metadata": {},
   "outputs": [
    {
     "name": "stdout",
     "output_type": "stream",
     "text": [
      "x_min: -52 ,x_max: 55 y_min: -55 ,y_max: 54\n"
     ]
    },
    {
     "data": {
      "text/html": [
       "<div>\n",
       "<style scoped>\n",
       "    .dataframe tbody tr th:only-of-type {\n",
       "        vertical-align: middle;\n",
       "    }\n",
       "\n",
       "    .dataframe tbody tr th {\n",
       "        vertical-align: top;\n",
       "    }\n",
       "\n",
       "    .dataframe thead th {\n",
       "        text-align: right;\n",
       "    }\n",
       "</style>\n",
       "<table border=\"1\" class=\"dataframe\">\n",
       "  <thead>\n",
       "    <tr style=\"text-align: right;\">\n",
       "      <th></th>\n",
       "      <th>x</th>\n",
       "      <th>y</th>\n",
       "      <th>label</th>\n",
       "    </tr>\n",
       "  </thead>\n",
       "  <tbody>\n",
       "    <tr>\n",
       "      <th>0</th>\n",
       "      <td>-12</td>\n",
       "      <td>20</td>\n",
       "      <td>a</td>\n",
       "    </tr>\n",
       "    <tr>\n",
       "      <th>1</th>\n",
       "      <td>-23</td>\n",
       "      <td>23</td>\n",
       "      <td>a</td>\n",
       "    </tr>\n",
       "    <tr>\n",
       "      <th>2</th>\n",
       "      <td>50</td>\n",
       "      <td>-12</td>\n",
       "      <td>b</td>\n",
       "    </tr>\n",
       "    <tr>\n",
       "      <th>3</th>\n",
       "      <td>1</td>\n",
       "      <td>54</td>\n",
       "      <td>c</td>\n",
       "    </tr>\n",
       "    <tr>\n",
       "      <th>4</th>\n",
       "      <td>2</td>\n",
       "      <td>2</td>\n",
       "      <td>c</td>\n",
       "    </tr>\n",
       "  </tbody>\n",
       "</table>\n",
       "</div>"
      ],
      "text/plain": [
       "    x   y label\n",
       "0 -12  20     a\n",
       "1 -23  23     a\n",
       "2  50 -12     b\n",
       "3   1  54     c\n",
       "4   2   2     c"
      ]
     },
     "execution_count": 96,
     "metadata": {},
     "output_type": "execute_result"
    }
   ],
   "source": [
    "\n",
    "data, x_min,x_max,y_min,y_max,num_labels = get_data('data1.csv')\n",
    "print (\"x_min:\",x_min,\",x_max:\",x_max,\"y_min:\",y_min,\",y_max:\",y_max)\n",
    "data.head()"
   ]
  },
  {
   "cell_type": "code",
   "execution_count": 97,
   "metadata": {},
   "outputs": [],
   "source": [
    "import math \n",
    "\n",
    "def draw_star(canvas, center_x, center_y, size, fill_color):\n",
    "    \"\"\" 绘制一个空心五角星，并填充指定颜色。\n",
    "\n",
    "    :param canvas: Tkinter Canvas对象\n",
    "    :param center_x: 五角星中心的x坐标\n",
    "    :param center_y: 五角星中心的y坐标\n",
    "    :param size: 五角星的大小（从中心到顶点的距离）\n",
    "    :param fill_color: 五角星填充颜色\n",
    "    \"\"\"\n",
    "    points = []\n",
    "    for i in range(5):\n",
    "        # 计算外部顶点\n",
    "        x = center_x + size * math.cos(2 * math.pi * i / 5 - math.pi / 10)\n",
    "        y = center_y - size * math.sin(2 * math.pi * i / 5 - math.pi / 10)\n",
    "        points.append((x, y))\n",
    "\n",
    "        # 计算内部顶点\n",
    "        x = center_x + size/2 * math.cos(2 * math.pi * i / 5 + math.pi / 10)\n",
    "        y = center_y - size/2 * math.sin(2 * math.pi * i / 5 + math.pi / 10)\n",
    "        points.append((x, y))\n",
    "\n",
    "    canvas.create_polygon(points, outline='black', fill=fill_color)\n"
   ]
  },
  {
   "cell_type": "code",
   "execution_count": 103,
   "metadata": {},
   "outputs": [],
   "source": [
    "def translate(x,y,x_low,x_high,y_low, y_high,width = 500,height = 500,margin = 30):\n",
    "    x_l,x_h = nearest_tens(x_low,x_high)\n",
    "    y_l,y_h = nearest_tens(y_low,y_high)\n",
    "\n",
    "    x_range = x_h - x_l\n",
    "    y_range = y_h - y_l\n",
    "\n",
    "    x_pixel = (x - x_l)/x_range*(width-4*margin) + 2*margin\n",
    "    y_pixel = height- 2*margin - (y - y_l)/y_range*(height-4*margin)\n",
    "\n",
    "    return x_pixel,y_pixel\n"
   ]
  },
  {
   "cell_type": "code",
   "execution_count": 105,
   "metadata": {},
   "outputs": [],
   "source": [
    "\n",
    "# Create Tkinter window\n",
    "window = tk.Tk()\n",
    "window.title(\"Axes with Ticks\")\n",
    "\n",
    "# Set window size\n",
    "window.geometry('600x600')\n",
    "\n",
    "# Create Canvas widget\n",
    "width = 500\n",
    "height = 500\n",
    "canvas = tk.Canvas(window, width=width, height=height)\n",
    "canvas.pack()\n",
    "\n",
    "# Create axes with ticks\n",
    "create_axes_with_ticks(canvas, width, height,x_min,x_max,y_min,y_max)\n",
    "\n",
    "for index, row in data.iterrows():\n",
    "    x, y = translate(row['x'],row['y'],x_min,x_max,y_min,y_max)\n",
    "    draw_star(canvas,x,y,5,'red')\n",
    "\n",
    "# Run the window's main loop\n",
    "window.mainloop()\n"
   ]
  }
 ],
 "metadata": {
  "kernelspec": {
   "display_name": "Python 3",
   "language": "python",
   "name": "python3"
  },
  "language_info": {
   "codemirror_mode": {
    "name": "ipython",
    "version": 3
   },
   "file_extension": ".py",
   "mimetype": "text/x-python",
   "name": "python",
   "nbconvert_exporter": "python",
   "pygments_lexer": "ipython3",
   "version": "3.11.7"
  }
 },
 "nbformat": 4,
 "nbformat_minor": 2
}
