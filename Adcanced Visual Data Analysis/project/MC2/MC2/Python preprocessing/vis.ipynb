{
 "cells": [
  {
   "cell_type": "code",
   "execution_count": 16,
   "metadata": {},
   "outputs": [
    {
     "data": {
      "application/vnd.plotly.v1+json": {
       "config": {
        "plotlyServerURL": "https://plot.ly"
       },
       "data": [
        {
         "alignmentgroup": "True",
         "bingroup": "x",
         "hovertemplate": "Location=%{x}<br>count=%{y}<extra></extra>",
         "legendgroup": "",
         "marker": {
          "color": "#636efa",
          "pattern": {
           "shape": ""
          }
         },
         "name": "",
         "offsetgroup": "",
         "orientation": "v",
         "showlegend": false,
         "type": "histogram",
         "x": [
          "Brew've Been Served",
          "Hallowed Grounds",
          "Brew've Been Served",
          "Hallowed Grounds",
          "Brew've Been Served",
          "Brew've Been Served",
          "Coffee Cameleon",
          "Brew've Been Served",
          "Brew've Been Served",
          "Hallowed Grounds",
          "Hallowed Grounds",
          "Coffee Cameleon",
          "Brew've Been Served",
          "Hallowed Grounds",
          "Coffee Cameleon",
          "Hallowed Grounds",
          "Hallowed Grounds",
          "Brew've Been Served",
          "Brew've Been Served",
          "Brew've Been Served",
          "Hallowed Grounds",
          "Hallowed Grounds",
          "Brew've Been Served",
          "Brew've Been Served",
          "Brew've Been Served",
          "Coffee Cameleon",
          "Brew've Been Served",
          "Brew've Been Served",
          "Brew've Been Served",
          "Abila Airport",
          "Kronos Pipe and Irrigation",
          "Nationwide Refinery",
          "Maximum Iron and Steel",
          "Stewart and Sons Fabrication",
          "Carlyle Chemical Inc.",
          "Coffee Shack",
          "Bean There Done That",
          "Bean There Done That",
          "Brewed Awakenings",
          "Jack's Magical Beans",
          "Brewed Awakenings",
          "Bean There Done That",
          "Brewed Awakenings",
          "Bean There Done That",
          "Bean There Done That",
          "Jack's Magical Beans",
          "Jack's Magical Beans",
          "Jack's Magical Beans",
          "Abila Airport",
          "Katerinas Café",
          "Hippokampos",
          "Abila Zacharo",
          "Gelatogalore",
          "Kalami Kafenion",
          "Hippokampos",
          "Hippokampos",
          "Ouzeri Elian",
          "Hippokampos",
          "Guy's Gyros",
          "Abila Zacharo",
          "Abila Zacharo",
          "Katerinas Café",
          "Kalami Kafenion",
          "Guy's Gyros",
          "Hippokampos",
          "Abila Zacharo",
          "Ouzeri Elian",
          "Guy's Gyros",
          "Gelatogalore",
          "Ouzeri Elian",
          "Guy's Gyros",
          "Katerinas Café",
          "Guy's Gyros",
          "Kalami Kafenion",
          "Ouzeri Elian",
          "Ouzeri Elian",
          "Katerinas Café",
          "Katerinas Café",
          "Kalami Kafenion",
          "Gelatogalore",
          "Katerinas Café",
          "Abila Zacharo",
          "Hippokampos",
          "Hippokampos",
          "Katerinas Café",
          "Kalami Kafenion",
          "Gelatogalore",
          "Hippokampos",
          "Abila Zacharo",
          "Kalami Kafenion",
          "Katerinas Café",
          "Abila Airport",
          "Abila Airport",
          "U-Pump",
          "Katerinas Café",
          "Katerinas Café",
          "Guy's Gyros",
          "Frydos Autosupply n' More",
          "Katerinas Café",
          "Katerinas Café",
          "Guy's Gyros",
          "Frydos Autosupply n' More",
          "Guy's Gyros",
          "Guy's Gyros",
          "Frydos Autosupply n' More",
          "Katerinas Café",
          "Hippokampos",
          "Guy's Gyros",
          "Albert's Fine Clothing",
          "Guy's Gyros",
          "Hippokampos",
          "Katerinas Café",
          "Katerinas Café",
          "Katerinas Café",
          "Hippokampos",
          "Hippokampos",
          "Hippokampos",
          "Frydos Autosupply n' More",
          "Shoppers' Delight",
          "Hippokampos",
          "Katerinas Café",
          "Katerinas Café",
          "Albert's Fine Clothing",
          "Hippokampos",
          "Katerinas Café",
          "Frydos Autosupply n' More",
          "Frydos Autosupply n' More",
          "Hippokampos",
          "Brew've Been Served",
          "Brew've Been Served",
          "Brew've Been Served",
          "Hallowed Grounds",
          "Hallowed Grounds",
          "Hallowed Grounds",
          "Brew've Been Served",
          "Hallowed Grounds",
          "Coffee Cameleon",
          "Hallowed Grounds",
          "Hallowed Grounds",
          "Coffee Cameleon",
          "Brew've Been Served",
          "Hallowed Grounds",
          "Brew've Been Served",
          "Brew've Been Served",
          "Brew've Been Served",
          "Brew've Been Served",
          "Hallowed Grounds",
          "Brew've Been Served",
          "Brew've Been Served",
          "Coffee Cameleon",
          "Coffee Cameleon",
          "Hallowed Grounds",
          "Hallowed Grounds",
          "Brew've Been Served",
          "Brew've Been Served",
          "Brew've Been Served",
          "Brew've Been Served",
          "Abila Airport",
          "Stewart and Sons Fabrication",
          "Nationwide Refinery",
          "Stewart and Sons Fabrication",
          "Nationwide Refinery",
          "Coffee Shack",
          "Bean There Done That",
          "Brewed Awakenings",
          "Jack's Magical Beans",
          "Brewed Awakenings",
          "Brewed Awakenings",
          "Bean There Done That",
          "Brewed Awakenings",
          "Bean There Done That",
          "Bean There Done That",
          "Jack's Magical Beans",
          "Jack's Magical Beans",
          "Jack's Magical Beans",
          "Nationwide Refinery",
          "Abila Airport",
          "Katerinas Café",
          "Guy's Gyros",
          "Abila Zacharo",
          "Gelatogalore",
          "Guy's Gyros",
          "Kalami Kafenion",
          "Kalami Kafenion",
          "Abila Zacharo",
          "Ouzeri Elian",
          "Gelatogalore",
          "Ouzeri Elian",
          "Abila Zacharo",
          "Gelatogalore",
          "Katerinas Café",
          "Guy's Gyros",
          "Kalami Kafenion",
          "Ouzeri Elian",
          "Gelatogalore",
          "Gelatogalore",
          "Gelatogalore",
          "Katerinas Café",
          "Abila Zacharo",
          "Ouzeri Elian",
          "Abila Zacharo",
          "Kalami Kafenion",
          "Guy's Gyros",
          "Kalami Kafenion",
          "Gelatogalore",
          "Ouzeri Elian",
          "Gelatogalore",
          "Hippokampos",
          "Gelatogalore",
          "Abila Zacharo",
          "Ouzeri Elian",
          "Katerinas Café",
          "Gelatogalore",
          "Hippokampos",
          "Katerinas Café",
          "Guy's Gyros",
          "Ouzeri Elian",
          "Hippokampos",
          "Abila Scrapyard",
          "Kronos Pipe and Irrigation",
          "Carlyle Chemical Inc.",
          "Stewart and Sons Fabrication",
          "Maximum Iron and Steel",
          "Abila Airport",
          "Nationwide Refinery",
          "Guy's Gyros",
          "Guy's Gyros",
          "Hippokampos",
          "Hippokampos",
          "Albert's Fine Clothing",
          "Katerinas Café",
          "Albert's Fine Clothing",
          "Guy's Gyros",
          "Guy's Gyros",
          "Katerinas Café",
          "Guy's Gyros",
          "Katerinas Café",
          "Katerinas Café",
          "Katerinas Café",
          "Guy's Gyros",
          "Ouzeri Elian",
          "Katerinas Café",
          "Guy's Gyros",
          "Frydos Autosupply n' More",
          "Katerinas Café",
          "Katerinas Café",
          "Katerinas Café",
          "Hippokampos",
          "Guy's Gyros",
          "Katerinas Café",
          "Ouzeri Elian",
          "Hippokampos",
          "Katerinas Café",
          "Hippokampos",
          "Hippokampos",
          "Katerinas Café",
          "Hippokampos",
          "Hippokampos",
          "Brew've Been Served",
          "Hallowed Grounds",
          "Hallowed Grounds",
          "Hallowed Grounds",
          "Hallowed Grounds",
          "Brew've Been Served",
          "Hallowed Grounds",
          "Hallowed Grounds",
          "Brew've Been Served",
          "Brew've Been Served",
          "Brew've Been Served",
          "Brew've Been Served",
          "Hallowed Grounds",
          "Coffee Cameleon",
          "Coffee Cameleon",
          "Hallowed Grounds",
          "Brew've Been Served",
          "Hallowed Grounds",
          "Brew've Been Served",
          "Hallowed Grounds",
          "Brew've Been Served",
          "Coffee Cameleon",
          "Brew've Been Served",
          "Brew've Been Served",
          "Brew've Been Served",
          "Brew've Been Served",
          "Brew've Been Served",
          "Brew've Been Served",
          "Brew've Been Served",
          "Brew've Been Served",
          "Coffee Cameleon",
          "Carlyle Chemical Inc.",
          "Nationwide Refinery",
          "Nationwide Refinery",
          "Stewart and Sons Fabrication",
          "Stewart and Sons Fabrication",
          "Coffee Shack",
          "Bean There Done That",
          "Bean There Done That",
          "Brewed Awakenings",
          "Jack's Magical Beans",
          "Brewed Awakenings",
          "Bean There Done That",
          "Brewed Awakenings",
          "Bean There Done That",
          "Jack's Magical Beans",
          "Jack's Magical Beans",
          "Jack's Magical Beans",
          "Frank's Fuel",
          "Abila Airport",
          "Chostus Hotel",
          "Carlyle Chemical Inc.",
          "Abila Zacharo",
          "Hippokampos",
          "Hippokampos",
          "Katerinas Café",
          "Chostus Hotel",
          "Ouzeri Elian",
          "Abila Zacharo",
          "Hippokampos",
          "Gelatogalore",
          "Katerinas Café",
          "Gelatogalore",
          "Kalami Kafenion",
          "Hippokampos",
          "Guy's Gyros",
          "Abila Zacharo",
          "Katerinas Café",
          "Gelatogalore",
          "Gelatogalore",
          "Guy's Gyros",
          "Katerinas Café",
          "Gelatogalore",
          "Kalami Kafenion",
          "Katerinas Café",
          "Hippokampos",
          "Kalami Kafenion",
          "Kalami Kafenion",
          "Abila Zacharo",
          "Katerinas Café",
          "Gelatogalore",
          "Ouzeri Elian",
          "Hippokampos",
          "Gelatogalore",
          "Guy's Gyros",
          "Abila Zacharo",
          "Kalami Kafenion",
          "Abila Zacharo",
          "Guy's Gyros",
          "Katerinas Café",
          "Kronos Pipe and Irrigation",
          "Kalami Kafenion",
          "Gelatogalore",
          "Kalami Kafenion",
          "Carlyle Chemical Inc.",
          "Maximum Iron and Steel",
          "Abila Airport",
          "Hippokampos",
          "Hippokampos",
          "Katerinas Café",
          "Guy's Gyros",
          "Guy's Gyros",
          "Katerinas Café",
          "Hippokampos",
          "Guy's Gyros",
          "Frydos Autosupply n' More",
          "Guy's Gyros",
          "Katerinas Café",
          "Ouzeri Elian",
          "Guy's Gyros",
          "Frydos Autosupply n' More",
          "Guy's Gyros",
          "Katerinas Café",
          "Hippokampos",
          "Frydos Autosupply n' More",
          "Katerinas Café",
          "Katerinas Café",
          "Katerinas Café",
          "Albert's Fine Clothing",
          "Hippokampos",
          "Hippokampos",
          "Guy's Gyros",
          "Guy's Gyros",
          "General Grocer",
          "Katerinas Café",
          "Katerinas Café",
          "Ouzeri Elian",
          "Ouzeri Elian",
          "Hippokampos",
          "Coffee Cameleon",
          "Brew've Been Served",
          "Hallowed Grounds",
          "Coffee Cameleon",
          "Hallowed Grounds",
          "Brew've Been Served",
          "Hallowed Grounds",
          "Brew've Been Served",
          "Brew've Been Served",
          "Brew've Been Served",
          "Brew've Been Served",
          "Hallowed Grounds",
          "Hallowed Grounds",
          "Brew've Been Served",
          "Hallowed Grounds",
          "Brew've Been Served",
          "Hallowed Grounds",
          "Brew've Been Served",
          "Brew've Been Served",
          "Brew've Been Served",
          "Brew've Been Served",
          "Coffee Cameleon",
          "Hallowed Grounds",
          "Brew've Been Served",
          "Brew've Been Served",
          "Hallowed Grounds",
          "Abila Airport",
          "Carlyle Chemical Inc.",
          "Nationwide Refinery",
          "Stewart and Sons Fabrication",
          "Carlyle Chemical Inc.",
          "Nationwide Refinery",
          "Stewart and Sons Fabrication",
          "Coffee Shack",
          "Bean There Done That",
          "Brewed Awakenings",
          "Jack's Magical Beans",
          "Jack's Magical Beans",
          "Brewed Awakenings",
          "Bean There Done That",
          "Brewed Awakenings",
          "Bean There Done That",
          "Jack's Magical Beans",
          "Jack's Magical Beans",
          "Jack's Magical Beans",
          "Abila Airport",
          "Nationwide Refinery",
          "Ouzeri Elian",
          "Katerinas Café",
          "Gelatogalore",
          "Abila Airport",
          "Ouzeri Elian",
          "Gelatogalore",
          "Guy's Gyros",
          "Gelatogalore",
          "Gelatogalore",
          "Ouzeri Elian",
          "Katerinas Café",
          "Abila Zacharo",
          "Kalami Kafenion",
          "Katerinas Café",
          "Guy's Gyros",
          "Hippokampos",
          "Abila Zacharo",
          "Katerinas Café",
          "Gelatogalore",
          "Hippokampos",
          "Hippokampos",
          "Kalami Kafenion",
          "Abila Zacharo",
          "Gelatogalore",
          "Abila Zacharo",
          "Hippokampos",
          "Hippokampos",
          "Guy's Gyros",
          "Guy's Gyros",
          "Gelatogalore",
          "Abila Zacharo",
          "Hippokampos",
          "Hippokampos",
          "Kalami Kafenion",
          "Hippokampos",
          "Guy's Gyros",
          "Kalami Kafenion",
          "Kalami Kafenion",
          "Ouzeri Elian",
          "Katerinas Café",
          "Guy's Gyros",
          "Abila Scrapyard",
          "Guy's Gyros",
          "Abila Zacharo",
          "Gelatogalore",
          "Carlyle Chemical Inc.",
          "Kronos Pipe and Irrigation",
          "Stewart and Sons Fabrication",
          "Maximum Iron and Steel",
          "Abila Airport",
          "Carlyle Chemical Inc.",
          "Nationwide Refinery",
          "Katerinas Café",
          "Katerinas Café",
          "Frydos Autosupply n' More",
          "Guy's Gyros",
          "Ouzeri Elian",
          "Ouzeri Elian",
          "Guy's Gyros",
          "Hippokampos",
          "Katerinas Café",
          "Katerinas Café",
          "Katerinas Café",
          "Hippokampos",
          "General Grocer",
          "Katerinas Café",
          "Frydos Autosupply n' More",
          "Albert's Fine Clothing",
          "Frydos Autosupply n' More",
          "Katerinas Café",
          "Guy's Gyros",
          "Guy's Gyros",
          "Katerinas Café",
          "Guy's Gyros",
          "Katerinas Café",
          "Guy's Gyros",
          "Guy's Gyros",
          "Hippokampos",
          "Frydos Autosupply n' More",
          "Hippokampos",
          "Guy's Gyros",
          "Hippokampos",
          "Shoppers' Delight",
          "Katerinas Café",
          "Albert's Fine Clothing",
          "Hippokampos",
          "Hallowed Grounds",
          "Brew've Been Served",
          "Coffee Cameleon",
          "Hallowed Grounds",
          "Hallowed Grounds",
          "Hallowed Grounds",
          "Brew've Been Served",
          "Hallowed Grounds",
          "Hallowed Grounds",
          "Brew've Been Served",
          "Coffee Cameleon",
          "Brew've Been Served",
          "Hallowed Grounds",
          "Brew've Been Served",
          "Hallowed Grounds",
          "Brew've Been Served",
          "Brew've Been Served",
          "Coffee Cameleon",
          "Brew've Been Served",
          "Brew've Been Served",
          "Brew've Been Served",
          "Abila Airport",
          "Brew've Been Served",
          "Brew've Been Served",
          "Hallowed Grounds",
          "Brew've Been Served",
          "Brew've Been Served",
          "Coffee Cameleon",
          "Brew've Been Served",
          "Brew've Been Served",
          "Brew've Been Served",
          "Carlyle Chemical Inc.",
          "Kronos Mart",
          "Nationwide Refinery",
          "Nationwide Refinery",
          "Stewart and Sons Fabrication",
          "Bean There Done That",
          "Bean There Done That",
          "Brewed Awakenings",
          "Jack's Magical Beans",
          "Brewed Awakenings",
          "Bean There Done That",
          "Brewed Awakenings",
          "Bean There Done That",
          "Bean There Done That",
          "Jack's Magical Beans",
          "Jack's Magical Beans",
          "Jack's Magical Beans",
          "Stewart and Sons Fabrication",
          "Chostus Hotel",
          "Chostus Hotel",
          "Guy's Gyros",
          "Ouzeri Elian",
          "Hippokampos",
          "Guy's Gyros",
          "Guy's Gyros",
          "Abila Zacharo",
          "Katerinas Café",
          "Kalami Kafenion",
          "Gelatogalore",
          "Ouzeri Elian",
          "Kalami Kafenion",
          "Abila Zacharo",
          "Katerinas Café",
          "Guy's Gyros",
          "Katerinas Café",
          "Hippokampos",
          "Guy's Gyros",
          "Ouzeri Elian",
          "Kalami Kafenion",
          "Abila Zacharo",
          "Guy's Gyros",
          "Katerinas Café",
          "Katerinas Café",
          "Ouzeri Elian",
          "Guy's Gyros",
          "Kalami Kafenion",
          "Guy's Gyros",
          "Ouzeri Elian",
          "Hippokampos",
          "Abila Zacharo",
          "Abila Zacharo",
          "Abila Zacharo",
          "Hippokampos",
          "Ouzeri Elian",
          "Katerinas Café",
          "Abila Zacharo",
          "Gelatogalore",
          "Hippokampos",
          "Octavio's Office Supplies",
          "Octavio's Office Supplies",
          "Ouzeri Elian",
          "Frydos Autosupply n' More",
          "Guy's Gyros",
          "Hippokampos",
          "Katerinas Café",
          "Guy's Gyros",
          "Hippokampos",
          "Katerinas Café",
          "Frydos Autosupply n' More",
          "Katerinas Café",
          "Hippokampos",
          "Katerinas Café",
          "Guy's Gyros",
          "Albert's Fine Clothing",
          "Frydos Autosupply n' More",
          "Shoppers' Delight",
          "Guy's Gyros",
          "Guy's Gyros",
          "Katerinas Café",
          "Hippokampos",
          "Roberts and Sons",
          "Guy's Gyros",
          "Hippokampos",
          "General Grocer",
          "Hippokampos",
          "Katerinas Café",
          "Katerinas Café",
          "Katerinas Café",
          "Abila Zacharo",
          "Abila Zacharo",
          "Gelatogalore",
          "Hippokampos",
          "Hippokampos",
          "Hippokampos",
          "Ouzeri Elian",
          "Katerinas Café",
          "Hippokampos",
          "Katerinas Café",
          "Abila Zacharo",
          "Gelatogalore",
          "Kalami Kafenion",
          "Kalami Kafenion",
          "Katerinas Café",
          "Abila Zacharo",
          "Shoppers' Delight",
          "Shoppers' Delight",
          "General Grocer",
          "Roberts and Sons",
          "Albert's Fine Clothing",
          "Frydos Autosupply n' More",
          "Ahaggo Museum",
          "Ahaggo Museum",
          "Katerinas Café",
          "Kalami Kafenion",
          "Ouzeri Elian",
          "Hippokampos",
          "Albert's Fine Clothing",
          "Hippokampos",
          "Hippokampos",
          "Katerinas Café",
          "Katerinas Café",
          "Hippokampos",
          "Guy's Gyros",
          "Katerinas Café",
          "Shoppers' Delight",
          "Hippokampos",
          "Katerinas Café",
          "Katerinas Café",
          "Katerinas Café",
          "Hippokampos",
          "Guy's Gyros",
          "Katerinas Café",
          "Kalami Kafenion",
          "Ouzeri Elian",
          "Katerinas Café",
          "Guy's Gyros",
          "Guy's Gyros",
          "Frydos Autosupply n' More",
          "Katerinas Café",
          "Frydos Autosupply n' More",
          "Hippokampos",
          "Katerinas Café",
          "Frydos Autosupply n' More",
          "Hippokampos",
          "Kalami Kafenion",
          "Katerinas Café",
          "Kronos Mart",
          "Ouzeri Elian",
          "Ouzeri Elian",
          "Hippokampos",
          "Ouzeri Elian",
          "Ouzeri Elian",
          "Guy's Gyros",
          "Ouzeri Elian",
          "Hippokampos",
          "Gelatogalore",
          "Abila Zacharo",
          "Desafio Golf Course",
          "Kalami Kafenion",
          "Hippokampos",
          "Kalami Kafenion",
          "Hippokampos",
          "Hippokampos",
          "Desafio Golf Course",
          "Desafio Golf Course",
          "Guy's Gyros",
          "Shoppers' Delight",
          "Shoppers' Delight",
          "Shoppers' Delight",
          "General Grocer",
          "Albert's Fine Clothing",
          "Shoppers' Delight",
          "Ahaggo Museum",
          "Katerinas Café",
          "Katerinas Café",
          "Hippokampos",
          "Guy's Gyros",
          "Shoppers' Delight",
          "Hippokampos",
          "Guy's Gyros",
          "Hippokampos",
          "Guy's Gyros",
          "Katerinas Café",
          "Hippokampos",
          "Katerinas Café",
          "Gelatogalore",
          "Hippokampos",
          "Frydos Autosupply n' More",
          "Albert's Fine Clothing",
          "Ouzeri Elian",
          "Katerinas Café",
          "Hippokampos",
          "Katerinas Café",
          "Katerinas Café",
          "Katerinas Café",
          "Hippokampos",
          "Katerinas Café",
          "Katerinas Café",
          "Hippokampos",
          "Frydos Autosupply n' More",
          "Katerinas Café",
          "Kronos Mart",
          "Daily Dealz",
          "Hallowed Grounds",
          "Brew've Been Served",
          "Brew've Been Served",
          "Coffee Cameleon",
          "Brew've Been Served",
          "Hallowed Grounds",
          "Brew've Been Served",
          "Hallowed Grounds",
          "Brew've Been Served",
          "Hallowed Grounds",
          "Brew've Been Served",
          "Hallowed Grounds",
          "Coffee Cameleon",
          "Brew've Been Served",
          "Brew've Been Served",
          "Brew've Been Served",
          "Hallowed Grounds",
          "Brew've Been Served",
          "Kronos Mart",
          "Coffee Cameleon",
          "Brew've Been Served",
          "Hallowed Grounds",
          "Brew've Been Served",
          "Coffee Cameleon",
          "Abila Airport",
          "Brew've Been Served",
          "Brew've Been Served",
          "Brew've Been Served",
          "Kronos Pipe and Irrigation",
          "Nationwide Refinery",
          "Maximum Iron and Steel",
          "Coffee Shack",
          "Bean There Done That",
          "Bean There Done That",
          "Brewed Awakenings",
          "Jack's Magical Beans",
          "Brewed Awakenings",
          "Bean There Done That",
          "Brewed Awakenings",
          "Bean There Done That",
          "Bean There Done That",
          "Bean There Done That",
          "Bean There Done That",
          "Carlyle Chemical Inc.",
          "Jack's Magical Beans",
          "Jack's Magical Beans",
          "Jack's Magical Beans",
          "Abila Airport",
          "Hippokampos",
          "Ouzeri Elian",
          "Gelatogalore",
          "U-Pump",
          "Gelatogalore",
          "Abila Zacharo",
          "Abila Zacharo",
          "Katerinas Café",
          "Hippokampos",
          "Abila Zacharo",
          "Hippokampos",
          "Guy's Gyros",
          "Katerinas Café",
          "Abila Zacharo",
          "Hippokampos",
          "Katerinas Café",
          "Ouzeri Elian",
          "Guy's Gyros",
          "Katerinas Café",
          "Guy's Gyros",
          "Gelatogalore",
          "Abila Zacharo",
          "Abila Zacharo",
          "Ouzeri Elian",
          "Katerinas Café",
          "Hippokampos",
          "Abila Zacharo",
          "Guy's Gyros",
          "Katerinas Café",
          "Kalami Kafenion",
          "Guy's Gyros",
          "Gelatogalore",
          "Gelatogalore",
          "Hippokampos",
          "Ouzeri Elian",
          "Guy's Gyros",
          "Hippokampos",
          "Guy's Gyros",
          "Abila Airport",
          "Frydos Autosupply n' More",
          "Shoppers' Delight",
          "Ouzeri Elian",
          "Frydos Autosupply n' More",
          "Katerinas Café",
          "Frydos Autosupply n' More",
          "Katerinas Café",
          "Guy's Gyros",
          "Guy's Gyros",
          "Guy's Gyros",
          "Guy's Gyros",
          "Katerinas Café",
          "Katerinas Café",
          "Albert's Fine Clothing",
          "Hippokampos",
          "Hippokampos",
          "Albert's Fine Clothing",
          "Guy's Gyros",
          "Ouzeri Elian",
          "Katerinas Café",
          "Guy's Gyros",
          "Shoppers' Delight",
          "Katerinas Café",
          "Katerinas Café",
          "Guy's Gyros",
          "Katerinas Café",
          "Guy's Gyros",
          "Frydos Autosupply n' More",
          "Hippokampos",
          "Hippokampos",
          "Katerinas Café",
          "Hippokampos",
          "Brew've Been Served",
          "Brew've Been Served",
          "Hallowed Grounds",
          "Brew've Been Served",
          "Coffee Cameleon",
          "Brew've Been Served",
          "Hallowed Grounds",
          "Hallowed Grounds",
          "Brew've Been Served",
          "Hallowed Grounds",
          "Brew've Been Served",
          "Brew've Been Served",
          "Brew've Been Served",
          "Coffee Cameleon",
          "Coffee Cameleon",
          "Brew've Been Served",
          "Brew've Been Served",
          "Brew've Been Served",
          "Hallowed Grounds",
          "Hallowed Grounds",
          "Coffee Cameleon",
          "Brew've Been Served",
          "Brew've Been Served",
          "Brew've Been Served",
          "Hallowed Grounds",
          "Hallowed Grounds",
          "Brew've Been Served",
          "Brew've Been Served",
          "Hallowed Grounds",
          "Kronos Mart",
          "Carlyle Chemical Inc.",
          "Nationwide Refinery",
          "Stewart and Sons Fabrication",
          "Nationwide Refinery",
          "Stewart and Sons Fabrication",
          "Coffee Shack",
          "Bean There Done That",
          "Bean There Done That",
          "Brewed Awakenings",
          "Brewed Awakenings",
          "Bean There Done That",
          "Brewed Awakenings",
          "Bean There Done That",
          "Bean There Done That",
          "Jack's Magical Beans",
          "Jack's Magical Beans",
          "Abila Airport",
          "Nationwide Refinery",
          "Abila Airport",
          "Katerinas Café",
          "Hippokampos",
          "Chostus Hotel",
          "Katerinas Café",
          "Chostus Hotel",
          "Katerinas Café",
          "Kalami Kafenion",
          "Kalami Kafenion",
          "Hippokampos",
          "Gelatogalore",
          "Gelatogalore",
          "Katerinas Café",
          "Gelatogalore",
          "Katerinas Café",
          "Abila Zacharo",
          "Abila Zacharo",
          "Guy's Gyros",
          "Hippokampos",
          "Abila Zacharo",
          "Abila Zacharo",
          "Ouzeri Elian",
          "Kalami Kafenion",
          "Ouzeri Elian",
          "Katerinas Café",
          "Hippokampos",
          "Kalami Kafenion",
          "Katerinas Café",
          "Guy's Gyros",
          "Gelatogalore",
          "Guy's Gyros",
          "Kalami Kafenion",
          "Kalami Kafenion",
          "Ouzeri Elian",
          "Ouzeri Elian",
          "Gelatogalore",
          "Hippokampos",
          "Katerinas Café",
          "Guy's Gyros",
          "Ouzeri Elian",
          "Gelatogalore",
          "Abila Zacharo",
          "Abila Scrapyard",
          "Hippokampos",
          "Carlyle Chemical Inc.",
          "Abila Airport",
          "Octavio's Office Supplies",
          "Carlyle Chemical Inc.",
          "Nationwide Refinery",
          "Hippokampos",
          "Guy's Gyros",
          "Guy's Gyros",
          "Albert's Fine Clothing",
          "Katerinas Café",
          "Katerinas Café",
          "Guy's Gyros",
          "Guy's Gyros",
          "Katerinas Café",
          "Guy's Gyros",
          "Katerinas Café",
          "Hippokampos",
          "Guy's Gyros",
          "Katerinas Café",
          "Guy's Gyros",
          "Ouzeri Elian",
          "Frydos Autosupply n' More",
          "Katerinas Café",
          "Ouzeri Elian",
          "Katerinas Café",
          "Frydos Autosupply n' More",
          "Ouzeri Elian",
          "Hippokampos",
          "Albert's Fine Clothing",
          "Katerinas Café",
          "Hippokampos",
          "Katerinas Café",
          "Roberts and Sons",
          "Frydos Autosupply n' More",
          "Hippokampos",
          "Guy's Gyros",
          "Hallowed Grounds",
          "Brew've Been Served",
          "Hallowed Grounds",
          "Brew've Been Served",
          "Hallowed Grounds",
          "Brew've Been Served",
          "Hallowed Grounds",
          "Coffee Cameleon",
          "Brew've Been Served",
          "Brew've Been Served",
          "Brew've Been Served",
          "Brew've Been Served",
          "Coffee Cameleon",
          "Hallowed Grounds",
          "Coffee Cameleon",
          "Brew've Been Served",
          "Brew've Been Served",
          "Brew've Been Served",
          "Brew've Been Served",
          "Hallowed Grounds",
          "Brew've Been Served",
          "Hallowed Grounds",
          "Brew've Been Served",
          "Brew've Been Served",
          "Coffee Cameleon",
          "Brew've Been Served",
          "Brew've Been Served",
          "Hallowed Grounds",
          "Brew've Been Served",
          "Carlyle Chemical Inc.",
          "Nationwide Refinery",
          "Nationwide Refinery",
          "Stewart and Sons Fabrication",
          "Stewart and Sons Fabrication",
          "Nationwide Refinery",
          "Bean There Done That",
          "Jack's Magical Beans",
          "Brewed Awakenings",
          "Bean There Done That",
          "Brewed Awakenings",
          "Bean There Done That",
          "Bean There Done That",
          "Jack's Magical Beans",
          "Jack's Magical Beans",
          "Jack's Magical Beans",
          "Abila Airport",
          "Kalami Kafenion",
          "Ouzeri Elian",
          "Hippokampos",
          "Hippokampos",
          "Katerinas Café",
          "Katerinas Café",
          "Guy's Gyros",
          "Abila Zacharo",
          "Ouzeri Elian",
          "Hippokampos",
          "Abila Zacharo",
          "Katerinas Café",
          "Ouzeri Elian",
          "Kalami Kafenion",
          "Kalami Kafenion",
          "Kalami Kafenion",
          "Hippokampos",
          "Gelatogalore",
          "Ouzeri Elian",
          "Hippokampos",
          "Guy's Gyros",
          "Hippokampos",
          "Ouzeri Elian",
          "Guy's Gyros",
          "Abila Zacharo",
          "Kalami Kafenion",
          "Guy's Gyros",
          "Gelatogalore",
          "Guy's Gyros",
          "Abila Zacharo",
          "Ouzeri Elian",
          "Gelatogalore",
          "Gelatogalore",
          "Abila Zacharo",
          "Gelatogalore",
          "Guy's Gyros",
          "Katerinas Café",
          "Hippokampos",
          "Abila Zacharo",
          "Abila Zacharo",
          "Kronos Pipe and Irrigation",
          "Kalami Kafenion",
          "Carlyle Chemical Inc.",
          "Maximum Iron and Steel",
          "Abila Airport",
          "Carlyle Chemical Inc.",
          "Ouzeri Elian",
          "Katerinas Café",
          "Frydos Autosupply n' More",
          "Guy's Gyros",
          "Hippokampos",
          "Guy's Gyros",
          "General Grocer",
          "Katerinas Café",
          "Katerinas Café",
          "Guy's Gyros",
          "Frydos Autosupply n' More",
          "Katerinas Café",
          "Guy's Gyros",
          "Guy's Gyros",
          "Hippokampos",
          "Shoppers' Delight",
          "Hippokampos",
          "Katerinas Café",
          "Hippokampos",
          "Katerinas Café",
          "Hippokampos",
          "Katerinas Café",
          "Ouzeri Elian",
          "Katerinas Café",
          "Frydos Autosupply n' More",
          "Albert's Fine Clothing",
          "Frydos Autosupply n' More",
          "Guy's Gyros",
          "Katerinas Café",
          "Guy's Gyros",
          "Ouzeri Elian",
          "Hippokampos",
          "Katerinas Café",
          "Hippokampos",
          "Kronos Mart",
          "Brew've Been Served",
          "Brew've Been Served",
          "Brew've Been Served",
          "Coffee Cameleon",
          "Hallowed Grounds",
          "Hallowed Grounds",
          "Hallowed Grounds",
          "Hallowed Grounds",
          "Brew've Been Served",
          "Hallowed Grounds",
          "Hallowed Grounds",
          "Brew've Been Served",
          "Brew've Been Served",
          "Brew've Been Served",
          "Hallowed Grounds",
          "Brew've Been Served",
          "Brew've Been Served",
          "Brew've Been Served",
          "Coffee Cameleon",
          "Hallowed Grounds",
          "Brew've Been Served",
          "Hallowed Grounds",
          "Hallowed Grounds",
          "Brew've Been Served",
          "Brew've Been Served",
          "Hallowed Grounds",
          "Brew've Been Served",
          "Brew've Been Served",
          "Abila Airport",
          "Carlyle Chemical Inc.",
          "Nationwide Refinery",
          "Stewart and Sons Fabrication",
          "Nationwide Refinery",
          "Stewart and Sons Fabrication",
          "Coffee Shack",
          "Bean There Done That",
          "Bean There Done That",
          "Brewed Awakenings",
          "Jack's Magical Beans",
          "Brewed Awakenings",
          "Bean There Done That",
          "Brewed Awakenings",
          "Bean There Done That",
          "Bean There Done That",
          "Jack's Magical Beans",
          "Jack's Magical Beans",
          "Jack's Magical Beans",
          "Nationwide Refinery",
          "Abila Airport",
          "Katerinas Café",
          "Katerinas Café",
          "Hippokampos",
          "Abila Zacharo",
          "Abila Airport",
          "Hippokampos",
          "Guy's Gyros",
          "Katerinas Café",
          "Hippokampos",
          "Katerinas Café",
          "Katerinas Café",
          "Abila Zacharo",
          "Guy's Gyros",
          "Hippokampos",
          "Hippokampos",
          "Gelatogalore",
          "Hippokampos",
          "Hippokampos",
          "Gelatogalore",
          "Abila Zacharo",
          "Guy's Gyros",
          "Hippokampos",
          "Katerinas Café",
          "Guy's Gyros",
          "Hippokampos",
          "Ouzeri Elian",
          "Kalami Kafenion",
          "Ouzeri Elian",
          "Abila Zacharo",
          "Kalami Kafenion",
          "Abila Zacharo",
          "Gelatogalore",
          "Hippokampos",
          "Kalami Kafenion",
          "Kalami Kafenion",
          "Hippokampos",
          "Hippokampos",
          "Abila Zacharo",
          "Ouzeri Elian",
          "Ouzeri Elian",
          "Guy's Gyros",
          "Octavio's Office Supplies",
          "Abila Scrapyard",
          "Gelatogalore",
          "Carlyle Chemical Inc.",
          "Katerinas Café",
          "Guy's Gyros",
          "Guy's Gyros",
          "Katerinas Café",
          "Guy's Gyros",
          "Frydos Autosupply n' More",
          "Katerinas Café",
          "Katerinas Café",
          "Albert's Fine Clothing",
          "Katerinas Café",
          "Guy's Gyros",
          "Hippokampos",
          "Guy's Gyros",
          "Guy's Gyros",
          "Guy's Gyros",
          "Katerinas Café",
          "Ouzeri Elian",
          "Albert's Fine Clothing",
          "Katerinas Café",
          "Roberts and Sons",
          "Ouzeri Elian",
          "Ouzeri Elian",
          "Katerinas Café",
          "Guy's Gyros",
          "Katerinas Café",
          "Katerinas Café",
          "Hippokampos",
          "Hippokampos",
          "Shoppers' Delight",
          "Shoppers' Delight",
          "Katerinas Café",
          "Roberts and Sons",
          "Frydos Autosupply n' More",
          "Hippokampos",
          "Hippokampos",
          "Ouzeri Elian",
          "Brew've Been Served",
          "Hallowed Grounds",
          "Hallowed Grounds",
          "Brew've Been Served",
          "Coffee Cameleon",
          "Hallowed Grounds",
          "Hallowed Grounds",
          "Brew've Been Served",
          "Coffee Cameleon",
          "Hallowed Grounds",
          "Coffee Cameleon",
          "Hallowed Grounds",
          "Brew've Been Served",
          "Hallowed Grounds",
          "Brew've Been Served",
          "Brew've Been Served",
          "Hallowed Grounds",
          "Hallowed Grounds",
          "Brew've Been Served",
          "Coffee Cameleon",
          "Kronos Mart",
          "Brew've Been Served",
          "Brew've Been Served",
          "Hallowed Grounds",
          "Coffee Cameleon",
          "Brew've Been Served",
          "Brew've Been Served",
          "Brew've Been Served",
          "Brew've Been Served",
          "Brew've Been Served",
          "Stewart and Sons Fabrication",
          "Coffee Shack",
          "Bean There Done That",
          "Bean There Done That",
          "Brewed Awakenings",
          "Jack's Magical Beans",
          "Brewed Awakenings",
          "Bean There Done That",
          "Brewed Awakenings",
          "Bean There Done That",
          "Bean There Done That",
          "Jack's Magical Beans",
          "Abila Zacharo",
          "Kalami Kafenion",
          "Hippokampos",
          "Gelatogalore",
          "Guy's Gyros",
          "Guy's Gyros",
          "Hippokampos",
          "Abila Zacharo",
          "Hippokampos",
          "Gelatogalore",
          "Kalami Kafenion",
          "Ouzeri Elian",
          "Guy's Gyros",
          "Hippokampos",
          "Kalami Kafenion",
          "Kalami Kafenion",
          "Gelatogalore",
          "Abila Zacharo",
          "Katerinas Café",
          "Abila Zacharo",
          "Gelatogalore",
          "Katerinas Café",
          "Chostus Hotel",
          "Kalami Kafenion",
          "Gelatogalore",
          "Hippokampos",
          "Kalami Kafenion",
          "Katerinas Café",
          "Chostus Hotel",
          "Guy's Gyros",
          "Gelatogalore",
          "Hippokampos",
          "Kalami Kafenion",
          "Guy's Gyros",
          "Guy's Gyros",
          "Abila Zacharo",
          "Katerinas Café",
          "Ouzeri Elian",
          "Katerinas Café",
          "Guy's Gyros",
          "Hippokampos",
          "Ouzeri Elian",
          "Albert's Fine Clothing",
          "Guy's Gyros",
          "Guy's Gyros",
          "Katerinas Café",
          "Frydos Autosupply n' More",
          "Hippokampos",
          "Shoppers' Delight",
          "Katerinas Café",
          "Ouzeri Elian",
          "Guy's Gyros",
          "Katerinas Café",
          "Katerinas Café",
          "Guy's Gyros",
          "Shoppers' Delight",
          "Guy's Gyros",
          "Katerinas Café",
          "Ouzeri Elian",
          "Ouzeri Elian",
          "General Grocer",
          "Frydos Autosupply n' More",
          "Hippokampos",
          "Katerinas Café",
          "Guy's Gyros",
          "Katerinas Café",
          "Katerinas Café",
          "Guy's Gyros",
          "Frydos Autosupply n' More",
          "Hippokampos",
          "Hippokampos",
          "Chostus Hotel",
          "Abila Zacharo",
          "Abila Zacharo",
          "Katerinas Café",
          "Ouzeri Elian",
          "Kalami Kafenion",
          "Hippokampos",
          "Abila Zacharo",
          "Guy's Gyros",
          "Guy's Gyros",
          "Kalami Kafenion",
          "Abila Zacharo",
          "Katerinas Café",
          "Ouzeri Elian",
          "Kalami Kafenion",
          "Gelatogalore",
          "Katerinas Café",
          "Kalami Kafenion",
          "Katerinas Café",
          "Guy's Gyros",
          "Katerinas Café",
          "Kalami Kafenion",
          "Ahaggo Museum",
          "Ahaggo Museum",
          "Albert's Fine Clothing",
          "Frydos Autosupply n' More",
          "General Grocer",
          "Frydos Autosupply n' More",
          "Shoppers' Delight",
          "Roberts and Sons",
          "Frydos Autosupply n' More",
          "Frydos Autosupply n' More",
          "Albert's Fine Clothing",
          "Frank's Fuel",
          "Frydos Autosupply n' More",
          "Albert's Fine Clothing",
          "Guy's Gyros",
          "Katerinas Café",
          "Roberts and Sons",
          "Ouzeri Elian",
          "Hippokampos",
          "Guy's Gyros",
          "Ouzeri Elian",
          "Katerinas Café",
          "Katerinas Café",
          "Katerinas Café",
          "Hippokampos",
          "Katerinas Café",
          "Abila Zacharo",
          "Hippokampos",
          "Kalami Kafenion",
          "Guy's Gyros",
          "Hippokampos",
          "Roberts and Sons",
          "Katerinas Café",
          "Ouzeri Elian",
          "Katerinas Café",
          "Katerinas Café",
          "Katerinas Café",
          "Katerinas Café",
          "Hippokampos",
          "Katerinas Café",
          "Katerinas Café",
          "General Grocer",
          "Katerinas Café",
          "Hippokampos",
          "Katerinas Café",
          "Katerinas Café",
          "Hippokampos",
          "Hippokampos",
          "Kronos Mart",
          "Kronos Mart",
          "Kronos Mart",
          "Desafio Golf Course",
          "Desafio Golf Course",
          "Katerinas Café",
          "Gelatogalore",
          "Katerinas Café",
          "Ahaggo Museum",
          "Ouzeri Elian",
          "Hippokampos",
          "Desafio Golf Course",
          "Katerinas Café",
          "Katerinas Café",
          "Ouzeri Elian",
          "Katerinas Café",
          "Abila Zacharo",
          "General Grocer",
          "Desafio Golf Course",
          "Frydos Autosupply n' More",
          "Albert's Fine Clothing",
          "Desafio Golf Course",
          "Frydos Autosupply n' More",
          "Katerinas Café",
          "Hippokampos",
          "Hippokampos",
          "Hippokampos",
          "Hippokampos",
          "Guy's Gyros",
          "Guy's Gyros",
          "Guy's Gyros",
          "Frydos Autosupply n' More",
          "Guy's Gyros",
          "Ouzeri Elian",
          "Ouzeri Elian",
          "Guy's Gyros",
          "Katerinas Café",
          "Shoppers' Delight",
          "Hippokampos",
          "Guy's Gyros",
          "Albert's Fine Clothing",
          "Katerinas Café",
          "Guy's Gyros",
          "Hippokampos",
          "Guy's Gyros",
          "Katerinas Café",
          "Guy's Gyros",
          "Guy's Gyros",
          "Guy's Gyros",
          "Brew've Been Served",
          "Brew've Been Served",
          "Hallowed Grounds",
          "Coffee Shack",
          "Hallowed Grounds",
          "Brew've Been Served",
          "Brew've Been Served",
          "Brew've Been Served",
          "Abila Zacharo",
          "Hippokampos",
          "Kalami Kafenion",
          "Katerinas Café",
          "Hippokampos",
          "Ouzeri Elian",
          "Kalami Kafenion",
          "Hippokampos",
          "Hippokampos",
          "Kalami Kafenion",
          "Katerinas Café",
          "Katerinas Café",
          "Frydos Autosupply n' More",
          "Frydos Autosupply n' More",
          "Katerinas Café",
          "Hippokampos",
          "Frydos Autosupply n' More",
          "Katerinas Café",
          "Brew've Been Served",
          "Hallowed Grounds",
          "Coffee Shack",
          "Brew've Been Served",
          "Brew've Been Served",
          "Hallowed Grounds",
          "Coffee Cameleon",
          "Brew've Been Served",
          "Hallowed Grounds",
          "Brew've Been Served",
          "Kalami Kafenion",
          "Ouzeri Elian",
          "Ouzeri Elian",
          "Abila Zacharo",
          "Gelatogalore",
          "Ouzeri Elian",
          "Katerinas Café",
          "Gelatogalore",
          "Hippokampos",
          "Albert's Fine Clothing",
          "Katerinas Café",
          "Katerinas Café",
          "Guy's Gyros",
          "Katerinas Café",
          "Ouzeri Elian",
          "Hallowed Grounds",
          "Brew've Been Served",
          "Hallowed Grounds",
          "Coffee Shack",
          "Brew've Been Served",
          "Brew've Been Served",
          "Brew've Been Served",
          "Hallowed Grounds",
          "Brew've Been Served",
          "Coffee Cameleon",
          "Abila Zacharo",
          "Gelatogalore",
          "Kalami Kafenion",
          "Kalami Kafenion",
          "Ouzeri Elian",
          "Abila Zacharo",
          "Gelatogalore",
          "Kalami Kafenion",
          "Gelatogalore",
          "Kalami Kafenion",
          "Katerinas Café",
          "Katerinas Café",
          "Frydos Autosupply n' More",
          "Frydos Autosupply n' More",
          "Hippokampos",
          "Katerinas Café",
          "Hallowed Grounds",
          "Coffee Shack",
          "Brew've Been Served",
          "Hallowed Grounds",
          "Coffee Cameleon",
          "Hallowed Grounds",
          "Gelatogalore",
          "Hippokampos",
          "Gelatogalore",
          "Hippokampos",
          "Gelatogalore",
          "Kalami Kafenion",
          "Kalami Kafenion",
          "Kalami Kafenion",
          "Guy's Gyros",
          "Gelatogalore",
          "Katerinas Café",
          "Katerinas Café",
          "Katerinas Café",
          "Katerinas Café",
          "Albert's Fine Clothing",
          "Katerinas Café",
          "Guy's Gyros",
          "Shoppers' Delight",
          "Hallowed Grounds",
          "Brew've Been Served",
          "Hallowed Grounds",
          "Coffee Cameleon",
          "Brew've Been Served",
          "Hallowed Grounds",
          "Brew've Been Served",
          "Katerinas Café",
          "Abila Zacharo",
          "Kalami Kafenion",
          "Guy's Gyros",
          "Ouzeri Elian",
          "Guy's Gyros",
          "Abila Zacharo",
          "Gelatogalore",
          "Hippokampos",
          "Frydos Autosupply n' More",
          "Katerinas Café",
          "Katerinas Café",
          "Guy's Gyros",
          "Katerinas Café",
          "Hippokampos",
          "Kalami Kafenion",
          "Shoppers' Delight",
          "General Grocer",
          "Katerinas Café",
          "Guy's Gyros",
          "Katerinas Café",
          "Katerinas Café",
          "Frydos Autosupply n' More",
          "Hippokampos",
          "Katerinas Café",
          "Ouzeri Elian",
          "Hippokampos",
          "Guy's Gyros",
          "Kronos Mart",
          "General Grocer",
          "Katerinas Café",
          "Frydos Autosupply n' More",
          "Katerinas Café",
          "Katerinas Café",
          "Katerinas Café",
          "Frydos Autosupply n' More",
          "Brew've Been Served",
          "Hallowed Grounds",
          "Brew've Been Served",
          "Coffee Cameleon",
          "Coffee Shack",
          "Hallowed Grounds",
          "Brew've Been Served",
          "Katerinas Café",
          "Hippokampos",
          "Guy's Gyros",
          "Kalami Kafenion",
          "Gelatogalore",
          "Guy's Gyros",
          "Gelatogalore",
          "Hippokampos",
          "Guy's Gyros",
          "Frydos Autosupply n' More",
          "Frydos Autosupply n' More",
          "Ouzeri Elian",
          "Katerinas Café",
          "Guy's Gyros",
          "Hippokampos",
          "Frydos Autosupply n' More",
          "Brew've Been Served",
          "Hallowed Grounds",
          "Brew've Been Served",
          "Brew've Been Served",
          "Coffee Cameleon",
          "Hallowed Grounds",
          "Brew've Been Served",
          "Coffee Shack",
          "Hallowed Grounds",
          "Brew've Been Served",
          "Abila Zacharo",
          "Kalami Kafenion",
          "Katerinas Café",
          "Katerinas Café",
          "Ouzeri Elian",
          "Kalami Kafenion",
          "Gelatogalore",
          "Ouzeri Elian",
          "Gelatogalore",
          "Hippokampos",
          "Guy's Gyros",
          "Katerinas Café",
          "Katerinas Café",
          "Ouzeri Elian",
          "Katerinas Café",
          "Katerinas Café",
          "Frydos Autosupply n' More",
          "Hallowed Grounds",
          "Brew've Been Served",
          "Brew've Been Served",
          "Brew've Been Served",
          "Coffee Shack",
          "Coffee Cameleon",
          "Hallowed Grounds",
          "Brew've Been Served",
          "Katerinas Café",
          "Kalami Kafenion",
          "Ouzeri Elian",
          "Kalami Kafenion",
          "Guy's Gyros",
          "Gelatogalore",
          "Ouzeri Elian",
          "Guy's Gyros",
          "Gelatogalore",
          "Abila Zacharo",
          "Katerinas Café",
          "Guy's Gyros",
          "Katerinas Café",
          "Katerinas Café",
          "Katerinas Café",
          "Katerinas Café",
          "Albert's Fine Clothing",
          "Frydos Autosupply n' More",
          "Ouzeri Elian",
          "Brew've Been Served",
          "Hallowed Grounds",
          "Coffee Shack",
          "Brew've Been Served",
          "Coffee Cameleon",
          "Hallowed Grounds",
          "Hallowed Grounds",
          "Brew've Been Served",
          "Katerinas Café",
          "Hippokampos",
          "Abila Zacharo",
          "Katerinas Café",
          "Kalami Kafenion",
          "Ouzeri Elian",
          "Ouzeri Elian",
          "Ouzeri Elian",
          "Guy's Gyros",
          "Octavio's Office Supplies",
          "Katerinas Café",
          "Katerinas Café",
          "Albert's Fine Clothing",
          "Katerinas Café",
          "Ouzeri Elian",
          "Katerinas Café",
          "Katerinas Café",
          "Frydos Autosupply n' More",
          "Brew've Been Served",
          "Brew've Been Served",
          "Coffee Shack",
          "Hallowed Grounds",
          "Coffee Cameleon",
          "Brew've Been Served",
          "Brew've Been Served",
          "Hippokampos",
          "Gelatogalore",
          "Hippokampos",
          "Kalami Kafenion",
          "Guy's Gyros",
          "Guy's Gyros",
          "Abila Zacharo",
          "Katerinas Café",
          "Ouzeri Elian",
          "Katerinas Café",
          "Hippokampos",
          "Frydos Autosupply n' More",
          "Katerinas Café",
          "Katerinas Café",
          "Ouzeri Elian",
          "Katerinas Café",
          "Frydos Autosupply n' More",
          "Katerinas Café",
          "Kalami Kafenion",
          "Kalami Kafenion",
          "Gelatogalore",
          "Katerinas Café",
          "Frydos Autosupply n' More",
          "Albert's Fine Clothing",
          "Frydos Autosupply n' More",
          "Guy's Gyros",
          "Ouzeri Elian",
          "Katerinas Café",
          "Katerinas Café",
          "Hippokampos",
          "Albert's Fine Clothing",
          "Hallowed Grounds",
          "Bean There Done That",
          "Guy's Gyros",
          "Hippokampos",
          "Bean There Done That",
          "Guy's Gyros",
          "Abila Zacharo",
          "Brewed Awakenings",
          "Hippokampos",
          "Jack's Magical Beans",
          "Katerinas Café",
          "Coffee Cameleon",
          "Gelatogalore",
          "Katerinas Café",
          "Brew've Been Served",
          "Katerinas Café",
          "Brewed Awakenings",
          "Ouzeri Elian",
          "Gelatogalore",
          "Bean There Done That",
          "Hippokampos",
          "Hippokampos",
          "Brewed Awakenings",
          "Hippokampos",
          "Bean There Done That",
          "Hippokampos",
          "Abila Zacharo",
          "Guy's Gyros",
          "Hallowed Grounds",
          "Hallowed Grounds",
          "Katerinas Café",
          "Katerinas Café",
          "Brew've Been Served",
          "Gelatogalore",
          "Guy's Gyros",
          "Brew've Been Served",
          "Guy's Gyros",
          "Guy's Gyros",
          "Hallowed Grounds",
          "Katerinas Café",
          "Bean There Done That",
          "Hippokampos",
          "Ouzeri Elian",
          "Brew've Been Served",
          "Guy's Gyros",
          "Ouzeri Elian",
          "Carlyle Chemical Inc.",
          "Abila Airport",
          "Abila Airport",
          "Kronos Pipe and Irrigation",
          "Maximum Iron and Steel",
          "Ouzeri Elian",
          "Brew've Been Served",
          "Brew've Been Served",
          "Guy's Gyros",
          "Kalami Kafenion",
          "U-Pump",
          "Abila Airport",
          "Albert's Fine Clothing",
          "Brew've Been Served",
          "Kalami Kafenion",
          "Nationwide Refinery",
          "Stewart and Sons Fabrication",
          "Coffee Cameleon",
          "Frydos Autosupply n' More",
          "Frydos Autosupply n' More",
          "Guy's Gyros",
          "Abila Zacharo",
          "Frydos Autosupply n' More",
          "Jack's Magical Beans",
          "Gelatogalore",
          "Hallowed Grounds",
          "Katerinas Café",
          "Abila Zacharo",
          "Brew've Been Served",
          "Katerinas Café",
          "Coffee Cameleon",
          "Katerinas Café",
          "Ouzeri Elian",
          "Brew've Been Served",
          "Guy's Gyros",
          "Katerinas Café",
          "Jack's Magical Beans",
          "Brew've Been Served",
          "Ouzeri Elian",
          "Brew've Been Served",
          "Hippokampos",
          "Abila Zacharo",
          "Brew've Been Served",
          "Shoppers' Delight",
          "Guy's Gyros",
          "Jack's Magical Beans",
          "Gelatogalore",
          "Hallowed Grounds",
          "Ouzeri Elian",
          "Abila Zacharo",
          "Bean There Done That",
          "Hippokampos",
          "Guy's Gyros",
          "Abila Zacharo",
          "Hippokampos",
          "Abila Zacharo",
          "Jack's Magical Beans",
          "Coffee Cameleon",
          "Gelatogalore",
          "Katerinas Café",
          "Brewed Awakenings",
          "Guy's Gyros",
          "Hippokampos",
          "Brewed Awakenings",
          "Guy's Gyros",
          "Hippokampos",
          "Hallowed Grounds",
          "Katerinas Café",
          "Katerinas Café",
          "Bean There Done That",
          "Hippokampos",
          "Kalami Kafenion",
          "Brewed Awakenings",
          "Gelatogalore",
          "Hippokampos",
          "Bean There Done That",
          "Hippokampos",
          "Hallowed Grounds",
          "Kalami Kafenion",
          "Gelatogalore",
          "Abila Zacharo",
          "Guy's Gyros",
          "Brew've Been Served",
          "Guy's Gyros",
          "Kalami Kafenion",
          "Guy's Gyros",
          "Hallowed Grounds",
          "Katerinas Café",
          "Albert's Fine Clothing",
          "Bean There Done That",
          "Ouzeri Elian",
          "Guy's Gyros",
          "Abila Airport",
          "Stewart and Sons Fabrication",
          "Brew've Been Served",
          "Brew've Been Served",
          "Guy's Gyros",
          "Katerinas Café",
          "Abila Airport",
          "Abila Airport",
          "Brew've Been Served",
          "Katerinas Café",
          "Carlyle Chemical Inc.",
          "Katerinas Café",
          "Nationwide Refinery",
          "Nationwide Refinery",
          "Stewart and Sons Fabrication",
          "Kronos Pipe and Irrigation",
          "Maximum Iron and Steel",
          "Coffee Cameleon",
          "Katerinas Café",
          "Ouzeri Elian",
          "Hallowed Grounds",
          "Katerinas Café",
          "Jack's Magical Beans",
          "Kalami Kafenion",
          "Ouzeri Elian",
          "Hallowed Grounds",
          "Hippokampos",
          "Katerinas Café",
          "Brew've Been Served",
          "Gelatogalore",
          "Katerinas Café",
          "Coffee Cameleon",
          "Gelatogalore",
          "Katerinas Café",
          "Brew've Been Served",
          "Frydos Autosupply n' More",
          "Ouzeri Elian",
          "Abila Scrapyard",
          "Abila Airport",
          "Nationwide Refinery",
          "Guy's Gyros",
          "Jack's Magical Beans",
          "Abila Zacharo",
          "Brew've Been Served",
          "Kalami Kafenion",
          "Brewed Awakenings",
          "Guy's Gyros",
          "Guy's Gyros",
          "Gelatogalore",
          "Hippokampos",
          "Jack's Magical Beans",
          "Hippokampos",
          "Ouzeri Elian",
          "Abila Zacharo",
          "Bean There Done That",
          "Hippokampos",
          "Albert's Fine Clothing",
          "Bean There Done That",
          "Hippokampos",
          "Brewed Awakenings",
          "Hippokampos",
          "Ouzeri Elian",
          "Jack's Magical Beans",
          "Katerinas Café",
          "Ouzeri Elian",
          "Coffee Cameleon",
          "Hippokampos",
          "Katerinas Café",
          "Brew've Been Served",
          "Frank's Fuel",
          "Frydos Autosupply n' More",
          "Guy's Gyros",
          "Brewed Awakenings",
          "Chostus Hotel",
          "Hippokampos",
          "Gelatogalore",
          "Hallowed Grounds",
          "Katerinas Café",
          "Hippokampos",
          "Hippokampos",
          "Hippokampos",
          "Bean There Done That",
          "Hippokampos",
          "General Grocer",
          "Guy's Gyros",
          "Hallowed Grounds",
          "Katerinas Café",
          "Brew've Been Served",
          "Gelatogalore",
          "Brew've Been Served",
          "Guy's Gyros",
          "Guy's Gyros",
          "Abila Zacharo",
          "Hallowed Grounds",
          "Bean There Done That",
          "Hippokampos",
          "Katerinas Café",
          "Brew've Been Served",
          "Kalami Kafenion",
          "Brew've Been Served",
          "Brew've Been Served",
          "Gelatogalore",
          "Guy's Gyros",
          "Abila Airport",
          "Abila Airport",
          "Brew've Been Served",
          "Guy's Gyros",
          "Guy's Gyros",
          "Nationwide Refinery",
          "Stewart and Sons Fabrication",
          "Carlyle Chemical Inc.",
          "Katerinas Café",
          "Nationwide Refinery",
          "Nationwide Refinery",
          "Stewart and Sons Fabrication",
          "Carlyle Chemical Inc.",
          "Kronos Pipe and Irrigation",
          "Maximum Iron and Steel",
          "Coffee Cameleon",
          "Katerinas Café",
          "Katerinas Café",
          "Katerinas Café",
          "Gelatogalore",
          "Jack's Magical Beans",
          "Ouzeri Elian",
          "Hallowed Grounds",
          "Kalami Kafenion",
          "Brew've Been Served",
          "Gelatogalore",
          "Coffee Cameleon",
          "Kalami Kafenion",
          "Katerinas Café",
          "Abila Zacharo",
          "Brew've Been Served",
          "Jack's Magical Beans",
          "Ouzeri Elian",
          "Brew've Been Served",
          "Chostus Hotel",
          "Guy's Gyros",
          "Brew've Been Served",
          "Hippokampos",
          "Brew've Been Served",
          "Guy's Gyros",
          "Kalami Kafenion",
          "Abila Zacharo",
          "Hippokampos",
          "Jack's Magical Beans",
          "Abila Zacharo",
          "Hallowed Grounds",
          "Bean There Done That",
          "Guy's Gyros",
          "Hippokampos",
          "Hippokampos",
          "Kronos Mart",
          "Ouzeri Elian",
          "Gelatogalore",
          "Jack's Magical Beans",
          "Katerinas Café",
          "Frydos Autosupply n' More",
          "Jack's Magical Beans",
          "Katerinas Café",
          "Brewed Awakenings",
          "Gelatogalore",
          "Hippokampos",
          "Guy's Gyros",
          "Guy's Gyros",
          "Bean There Done That",
          "Katerinas Café",
          "Albert's Fine Clothing",
          "Brewed Awakenings",
          "Frydos Autosupply n' More",
          "Hippokampos",
          "Hallowed Grounds",
          "Ouzeri Elian",
          "Abila Zacharo",
          "Hallowed Grounds",
          "Abila Zacharo",
          "Brew've Been Served",
          "Guy's Gyros",
          "Kalami Kafenion",
          "Guy's Gyros",
          "Hallowed Grounds",
          "Katerinas Café",
          "Bean There Done That",
          "Hippokampos",
          "Kalami Kafenion",
          "Brew've Been Served",
          "Guy's Gyros",
          "Ouzeri Elian",
          "Abila Airport",
          "Nationwide Refinery",
          "Stewart and Sons Fabrication",
          "Brew've Been Served",
          "Guy's Gyros",
          "Abila Zacharo",
          "Brew've Been Served",
          "Frydos Autosupply n' More",
          "Abila Airport",
          "Abila Airport",
          "Brew've Been Served",
          "Guy's Gyros",
          "Hippokampos",
          "Carlyle Chemical Inc.",
          "Carlyle Chemical Inc.",
          "Carlyle Chemical Inc.",
          "Katerinas Café",
          "Nationwide Refinery",
          "Nationwide Refinery",
          "Stewart and Sons Fabrication",
          "Carlyle Chemical Inc.",
          "Kronos Pipe and Irrigation",
          "Maximum Iron and Steel",
          "Coffee Cameleon",
          "Hallowed Grounds",
          "Hippokampos",
          "Katerinas Café",
          "Abila Zacharo",
          "Katerinas Café",
          "Gelatogalore",
          "Hallowed Grounds",
          "Coffee Cameleon",
          "Guy's Gyros",
          "Katerinas Café",
          "Brew've Been Served",
          "Abila Scrapyard",
          "Abila Airport",
          "Nationwide Refinery",
          "Stewart and Sons Fabrication",
          "Hippokampos",
          "Katerinas Café",
          "Brew've Been Served",
          "Hippokampos",
          "Brew've Been Served",
          "Gelatogalore",
          "General Grocer",
          "Brew've Been Served",
          "Guy's Gyros",
          "Guy's Gyros",
          "Abila Zacharo",
          "Hippokampos",
          "Jack's Magical Beans",
          "Hallowed Grounds",
          "Bean There Done That",
          "Gelatogalore",
          "Hippokampos",
          "Bean There Done That",
          "Guy's Gyros",
          "Brewed Awakenings",
          "Hippokampos",
          "Katerinas Café",
          "Abila Zacharo",
          "Jack's Magical Beans",
          "Ouzeri Elian",
          "Coffee Cameleon",
          "Guy's Gyros",
          "Octavio's Office Supplies",
          "Brew've Been Served",
          "Ouzeri Elian",
          "Brewed Awakenings",
          "Hallowed Grounds",
          "Ouzeri Elian",
          "Bean There Done That",
          "Ouzeri Elian",
          "Brewed Awakenings",
          "Hippokampos",
          "Hippokampos",
          "Bean There Done That",
          "Guy's Gyros",
          "Hallowed Grounds",
          "Katerinas Café",
          "Abila Zacharo",
          "Hallowed Grounds",
          "Abila Zacharo",
          "Brew've Been Served",
          "Shoppers' Delight",
          "Brew've Been Served",
          "Frydos Autosupply n' More",
          "Guy's Gyros",
          "Hallowed Grounds",
          "Ouzeri Elian",
          "Albert's Fine Clothing",
          "Bean There Done That",
          "Katerinas Café",
          "Brew've Been Served",
          "Guy's Gyros",
          "Guy's Gyros",
          "Carlyle Chemical Inc.",
          "Nationwide Refinery",
          "Stewart and Sons Fabrication",
          "Brew've Been Served",
          "Brew've Been Served",
          "Kalami Kafenion",
          "Brew've Been Served",
          "General Grocer",
          "Kalami Kafenion",
          "Nationwide Refinery",
          "Stewart and Sons Fabrication",
          "Carlyle Chemical Inc.",
          "Katerinas Café",
          "Abila Zacharo",
          "Hallowed Grounds",
          "Jack's Magical Beans",
          "Kalami Kafenion",
          "Abila Zacharo",
          "Brew've Been Served",
          "Katerinas Café",
          "Ouzeri Elian",
          "Coffee Cameleon",
          "Gelatogalore",
          "Katerinas Café",
          "Brew've Been Served",
          "Guy's Gyros",
          "Hippokampos",
          "Guy's Gyros",
          "Jack's Magical Beans",
          "Chostus Hotel",
          "Brew've Been Served",
          "Guy's Gyros",
          "Hippokampos",
          "Octavio's Office Supplies",
          "Brew've Been Served",
          "Katerinas Café",
          "Hippokampos",
          "Hippokampos",
          "Hippokampos",
          "Hippokampos",
          "Frydos Autosupply n' More",
          "Hippokampos",
          "Hippokampos",
          "Ouzeri Elian",
          "Katerinas Café",
          "Abila Zacharo",
          "Katerinas Café",
          "Katerinas Café",
          "Hippokampos",
          "Katerinas Café",
          "Kalami Kafenion",
          "Katerinas Café",
          "Kalami Kafenion",
          "Guy's Gyros",
          "Gelatogalore",
          "Katerinas Café",
          "Katerinas Café",
          "Guy's Gyros",
          "Katerinas Café",
          "Albert's Fine Clothing",
          "Hippokampos",
          "Katerinas Café",
          "Katerinas Café",
          "Abila Zacharo",
          "Katerinas Café",
          "Kalami Kafenion",
          "Katerinas Café",
          "Katerinas Café",
          "Abila Zacharo",
          "Frydos Autosupply n' More",
          "Albert's Fine Clothing",
          "Katerinas Café",
          "Ahaggo Museum",
          "Hippokampos",
          "Ahaggo Museum",
          "Hippokampos",
          "Guy's Gyros",
          "Hippokampos",
          "Hippokampos",
          "Hippokampos",
          "Desafio Golf Course",
          "Hippokampos",
          "Ouzeri Elian",
          "Katerinas Café",
          "Guy's Gyros",
          "Hippokampos",
          "Kalami Kafenion",
          "Hippokampos",
          "Katerinas Café",
          "Albert's Fine Clothing",
          "Desafio Golf Course",
          "Hippokampos",
          "Ouzeri Elian",
          "Hippokampos",
          "Guy's Gyros",
          "Hippokampos",
          "Katerinas Café",
          "Ouzeri Elian",
          "Shoppers' Delight",
          "Shoppers' Delight",
          "Hippokampos",
          "Kronos Mart",
          "Shoppers' Delight",
          "Guy's Gyros",
          "Albert's Fine Clothing",
          "Hippokampos",
          "Ouzeri Elian",
          "Shoppers' Delight",
          "Gelatogalore",
          "Kalami Kafenion",
          "Katerinas Café",
          "Katerinas Café",
          "Katerinas Café",
          "Shoppers' Delight",
          "Ahaggo Museum",
          "Guy's Gyros",
          "Hippokampos",
          "Ouzeri Elian",
          "Abila Zacharo",
          "Desafio Golf Course",
          "Hallowed Grounds",
          "Hippokampos",
          "Ouzeri Elian",
          "Bean There Done That",
          "Gelatogalore",
          "Hippokampos",
          "Abila Zacharo",
          "Bean There Done That",
          "Abila Zacharo",
          "Albert's Fine Clothing",
          "Brewed Awakenings",
          "Jack's Magical Beans",
          "Katerinas Café",
          "Coffee Cameleon",
          "Hippokampos",
          "Abila Zacharo",
          "Brew've Been Served",
          "Shoppers' Delight",
          "Brewed Awakenings",
          "Guy's Gyros",
          "Hallowed Grounds",
          "Katerinas Café",
          "Katerinas Café",
          "Bean There Done That",
          "Ouzeri Elian",
          "Brewed Awakenings",
          "Gelatogalore",
          "Hippokampos",
          "Abila Zacharo",
          "Albert's Fine Clothing",
          "Bean There Done That",
          "Guy's Gyros",
          "Guy's Gyros",
          "Hallowed Grounds",
          "Bean There Done That",
          "Katerinas Café",
          "Katerinas Café",
          "Abila Zacharo",
          "Brew've Been Served",
          "Guy's Gyros",
          "Brew've Been Served",
          "Guy's Gyros",
          "Hippokampos",
          "Bean There Done That",
          "Hippokampos",
          "Abila Zacharo",
          "Bean There Done That",
          "Abila Zacharo",
          "Brew've Been Served",
          "Carlyle Chemical Inc.",
          "Abila Airport",
          "Kronos Pipe and Irrigation",
          "Maximum Iron and Steel",
          "Ouzeri Elian",
          "Brew've Been Served",
          "Guy's Gyros",
          "Brew've Been Served",
          "Abila Airport",
          "Abila Airport",
          "Brew've Been Served",
          "Frydos Autosupply n' More",
          "Hippokampos",
          "Nationwide Refinery",
          "Stewart and Sons Fabrication",
          "Coffee Cameleon",
          "Guy's Gyros",
          "Katerinas Café",
          "Katerinas Café",
          "Ouzeri Elian",
          "Abila Zacharo",
          "Jack's Magical Beans",
          "Hallowed Grounds",
          "Katerinas Café",
          "Hallowed Grounds",
          "Katerinas Café",
          "Coffee Cameleon",
          "Katerinas Café",
          "Katerinas Café",
          "Guy's Gyros",
          "Shoppers' Delight",
          "Gelatogalore",
          "Hippokampos",
          "Jack's Magical Beans",
          "Abila Zacharo",
          "Brew've Been Served",
          "Brew've Been Served",
          "Guy's Gyros",
          "Ouzeri Elian",
          "Brew've Been Served",
          "Guy's Gyros",
          "Hippokampos",
          "Guy's Gyros",
          "Hippokampos",
          "Jack's Magical Beans",
          "Kalami Kafenion",
          "Ouzeri Elian",
          "Bean There Done That",
          "Hippokampos",
          "Albert's Fine Clothing",
          "Bean There Done That",
          "Kalami Kafenion",
          "Brewed Awakenings",
          "Jack's Magical Beans",
          "Ouzeri Elian",
          "Coffee Cameleon",
          "Hippokampos",
          "Brew've Been Served",
          "Hippokampos",
          "Brewed Awakenings",
          "Chostus Hotel",
          "Hippokampos",
          "Hallowed Grounds",
          "Hippokampos",
          "Katerinas Café",
          "Gelatogalore",
          "Hippokampos",
          "Brewed Awakenings",
          "Hippokampos",
          "Kalami Kafenion",
          "Bean There Done That",
          "Kalami Kafenion",
          "Guy's Gyros",
          "Hallowed Grounds",
          "Ouzeri Elian",
          "Guy's Gyros",
          "Hallowed Grounds",
          "Katerinas Café",
          "Brew've Been Served",
          "Guy's Gyros",
          "Katerinas Café",
          "Brew've Been Served",
          "Gelatogalore",
          "Guy's Gyros",
          "Guy's Gyros",
          "Hallowed Grounds",
          "Katerinas Café",
          "Bean There Done That",
          "Katerinas Café",
          "Abila Zacharo",
          "Brew've Been Served",
          "Abila Airport",
          "Nationwide Refinery",
          "Stewart and Sons Fabrication",
          "Brew've Been Served",
          "Albert's Fine Clothing",
          "Brew've Been Served",
          "Ouzeri Elian",
          "Abila Airport",
          "Abila Airport",
          "Abila Zacharo",
          "Brewed Awakenings",
          "Frydos Autosupply n' More",
          "Carlyle Chemical Inc.",
          "Carlyle Chemical Inc.",
          "Carlyle Chemical Inc.",
          "Nationwide Refinery",
          "Nationwide Refinery",
          "Stewart and Sons Fabrication",
          "Coffee Cameleon",
          "Abila Zacharo",
          "Hallowed Grounds",
          "Guy's Gyros",
          "Jack's Magical Beans",
          "Kalami Kafenion",
          "Katerinas Café",
          "Abila Zacharo",
          "Brew've Been Served",
          "Roberts and Sons",
          "Coffee Cameleon",
          "Katerinas Café",
          "Katerinas Café",
          "Brew've Been Served",
          "Frydos Autosupply n' More",
          "Hippokampos",
          "Abila Scrapyard",
          "Abila Airport",
          "Nationwide Refinery",
          "Jack's Magical Beans",
          "Katerinas Café",
          "Brew've Been Served",
          "Chostus Hotel",
          "Brew've Been Served",
          "Guy's Gyros",
          "Katerinas Café",
          "Brew've Been Served",
          "Guy's Gyros",
          "Katerinas Café",
          "Gelatogalore",
          "Hippokampos",
          "Jack's Magical Beans",
          "Hallowed Grounds",
          "Ouzeri Elian",
          "Ouzeri Elian",
          "Guy's Gyros",
          "Abila Zacharo",
          "Bean There Done That",
          "Hippokampos",
          "Abila Zacharo",
          "Brewed Awakenings",
          "Hippokampos",
          "Ouzeri Elian",
          "Coffee Cameleon",
          "Katerinas Café",
          "Ouzeri Elian",
          "Brew've Been Served",
          "Gelatogalore",
          "Guy's Gyros",
          "Brewed Awakenings",
          "Frydos Autosupply n' More",
          "Hippokampos",
          "Abila Zacharo",
          "Bean There Done That",
          "Hippokampos",
          "Hippokampos",
          "Brewed Awakenings",
          "Hippokampos",
          "Shoppers' Delight",
          "Bean There Done That",
          "Hippokampos",
          "Ouzeri Elian",
          "Hallowed Grounds",
          "Kronos Mart",
          "Ouzeri Elian",
          "Kalami Kafenion",
          "Brew've Been Served",
          "Gelatogalore",
          "General Grocer",
          "Brew've Been Served",
          "Guy's Gyros",
          "Hallowed Grounds",
          "Katerinas Café",
          "Bean There Done That",
          "Hippokampos",
          "Kalami Kafenion",
          "Brew've Been Served",
          "Guy's Gyros",
          "Brew've Been Served",
          "Guy's Gyros",
          "Brew've Been Served",
          "Guy's Gyros",
          "Ouzeri Elian",
          "Abila Airport",
          "Abila Airport",
          "Brew've Been Served",
          "Guy's Gyros",
          "Hippokampos",
          "Stewart and Sons Fabrication",
          "Carlyle Chemical Inc.",
          "Carlyle Chemical Inc.",
          "Carlyle Chemical Inc.",
          "Katerinas Café",
          "Nationwide Refinery",
          "Nationwide Refinery",
          "Kronos Pipe and Irrigation",
          "Maximum Iron and Steel",
          "Coffee Cameleon",
          "Guy's Gyros",
          "Katerinas Café",
          "Katerinas Café",
          "Jack's Magical Beans",
          "Katerinas Café",
          "Ouzeri Elian",
          "Abila Zacharo",
          "Hallowed Grounds",
          "Katerinas Café",
          "Brew've Been Served",
          "Abila Zacharo",
          "Coffee Cameleon",
          "Katerinas Café",
          "Brew've Been Served",
          "Kalami Kafenion",
          "Hippokampos",
          "Jack's Magical Beans",
          "Kalami Kafenion",
          "Brew've Been Served",
          "Frydos Autosupply n' More",
          "Hippokampos",
          "Brew've Been Served",
          "General Grocer",
          "Guy's Gyros",
          "Guy's Gyros",
          "Guy's Gyros",
          "Gelatogalore",
          "General Grocer",
          "Jack's Magical Beans",
          "Guy's Gyros",
          "Hallowed Grounds",
          "Ouzeri Elian",
          "Bean There Done That",
          "Hippokampos",
          "Kronos Mart",
          "Bean There Done That",
          "Hippokampos",
          "Kalami Kafenion",
          "Hippokampos",
          "Katerinas Café",
          "Hippokampos",
          "Jack's Magical Beans",
          "Ouzeri Elian",
          "Coffee Cameleon",
          "Hippokampos",
          "Katerinas Café",
          "Brew've Been Served",
          "Ouzeri Elian",
          "Brewed Awakenings",
          "Hippokampos",
          "Guy's Gyros",
          "Hallowed Grounds",
          "Katerinas Café",
          "Bean There Done That",
          "Guy's Gyros",
          "Shoppers' Delight",
          "Brewed Awakenings",
          "Hippokampos",
          "Hippokampos",
          "Hippokampos",
          "Guy's Gyros",
          "Hallowed Grounds",
          "Frydos Autosupply n' More",
          "Gelatogalore",
          "Hallowed Grounds",
          "Albert's Fine Clothing",
          "Brew've Been Served",
          "Guy's Gyros",
          "Brew've Been Served",
          "Guy's Gyros",
          "Kalami Kafenion",
          "Hallowed Grounds",
          "Hippokampos",
          "Katerinas Café",
          "Bean There Done That",
          "Hippokampos",
          "Kalami Kafenion",
          "Brew've Been Served",
          "Guy's Gyros",
          "Guy's Gyros",
          "Abila Airport",
          "Nationwide Refinery",
          "Stewart and Sons Fabrication",
          "Brew've Been Served",
          "Shoppers' Delight",
          "Brew've Been Served",
          "Guy's Gyros",
          "Katerinas Café",
          "Abila Airport",
          "Abila Airport",
          "Brew've Been Served",
          "Gelatogalore",
          "Roberts and Sons",
          "Carlyle Chemical Inc.",
          "Carlyle Chemical Inc.",
          "Katerinas Café",
          "Nationwide Refinery",
          "Nationwide Refinery",
          "Stewart and Sons Fabrication",
          "Katerinas Café",
          "Abila Zacharo",
          "Jack's Magical Beans",
          "Ouzeri Elian",
          "Hallowed Grounds",
          "Kalami Kafenion",
          "Katerinas Café",
          "Gelatogalore",
          "Hallowed Grounds",
          "Katerinas Café",
          "Abila Zacharo",
          "Coffee Cameleon",
          "Katerinas Café",
          "Abila Zacharo",
          "Guy's Gyros",
          "Abila Scrapyard",
          "Abila Airport",
          "Jack's Magical Beans",
          "Guy's Gyros",
          "Katerinas Café",
          "Brew've Been Served",
          "Guy's Gyros",
          "Brew've Been Served",
          "Hippokampos",
          "Roberts and Sons",
          "Gelatogalore",
          "Jack's Magical Beans",
          "Hallowed Grounds",
          "Ouzeri Elian",
          "Bean There Done That",
          "Bean There Done That",
          "Gelatogalore",
          "Hippokampos",
          "Brewed Awakenings",
          "Guy's Gyros",
          "Hippokampos",
          "Jack's Magical Beans",
          "Ouzeri Elian",
          "Coffee Cameleon",
          "Kalami Kafenion",
          "Katerinas Café",
          "Brew've Been Served",
          "Guy's Gyros",
          "Guy's Gyros",
          "Brewed Awakenings",
          "Chostus Hotel",
          "Hippokampos",
          "Hallowed Grounds",
          "Katerinas Café",
          "Bean There Done That",
          "Hippokampos",
          "Abila Zacharo",
          "Brewed Awakenings",
          "Hippokampos",
          "Albert's Fine Clothing",
          "Bean There Done That",
          "Katerinas Café",
          "General Grocer",
          "Kalami Kafenion",
          "Hallowed Grounds",
          "Kalami Kafenion",
          "Brew've Been Served",
          "Gelatogalore",
          "Guy's Gyros",
          "Brew've Been Served",
          "Shoppers' Delight",
          "Hallowed Grounds",
          "Hippokampos",
          "Abila Zacharo",
          "Bean There Done That",
          "Coffee Cameleon",
          "Guy's Gyros",
          "Hippokampos",
          "Brew've Been Served",
          "Shoppers' Delight",
          "Brew've Been Served",
          "Guy's Gyros",
          "Guy's Gyros",
          "Guy's Gyros",
          "Katerinas Café",
          "Stewart and Sons Fabrication",
          "Abila Zacharo",
          "Coffee Cameleon",
          "Katerinas Café",
          "Hallowed Grounds",
          "Katerinas Café",
          "Hippokampos",
          "Jack's Magical Beans",
          "Ouzeri Elian",
          "Gelatogalore",
          "Hallowed Grounds",
          "Katerinas Café",
          "Brew've Been Served",
          "Katerinas Café",
          "Coffee Cameleon",
          "Katerinas Café",
          "Brew've Been Served",
          "Guy's Gyros",
          "Abila Zacharo",
          "Hallowed Grounds",
          "Gelatogalore",
          "Brew've Been Served",
          "Chostus Hotel",
          "Guy's Gyros",
          "Brew've Been Served",
          "Guy's Gyros",
          "Hippokampos",
          "Abila Zacharo",
          "Brew've Been Served",
          "Hippokampos",
          "Kalami Kafenion",
          "Abila Zacharo",
          "Kronos Mart",
          "Ouzeri Elian",
          "Hippokampos",
          "Frank's Fuel",
          "Kalami Kafenion",
          "Katerinas Café",
          "Ouzeri Elian",
          "Abila Zacharo",
          "Roberts and Sons",
          "Kalami Kafenion",
          "Katerinas Café",
          "Abila Zacharo",
          "Roberts and Sons",
          "Katerinas Café",
          "Frydos Autosupply n' More",
          "Hippokampos",
          "Hippokampos",
          "Kalami Kafenion",
          "Kronos Mart",
          "Kalami Kafenion",
          "Frydos Autosupply n' More",
          "Guy's Gyros",
          "Katerinas Café",
          "Katerinas Café",
          "Ahaggo Museum",
          "Guy's Gyros",
          "Guy's Gyros",
          "Roberts and Sons",
          "Albert's Fine Clothing",
          "Hippokampos",
          "Ouzeri Elian",
          "Guy's Gyros",
          "Katerinas Café",
          "Kronos Mart",
          "Katerinas Café",
          "Katerinas Café",
          "Ahaggo Museum",
          "Hippokampos",
          "General Grocer",
          "Katerinas Café",
          "Ouzeri Elian",
          "General Grocer",
          "Kalami Kafenion",
          "Chostus Hotel",
          "Katerinas Café",
          "Abila Zacharo",
          "Albert's Fine Clothing",
          "Shoppers' Delight",
          "Abila Zacharo",
          "Katerinas Café",
          "Frydos Autosupply n' More",
          "Hippokampos",
          "Kalami Kafenion",
          "Hippokampos",
          "Hippokampos",
          "Desafio Golf Course",
          "Ouzeri Elian",
          "Guy's Gyros",
          "Albert's Fine Clothing",
          "Katerinas Café",
          "Hippokampos",
          "Desafio Golf Course",
          "Hippokampos",
          "Guy's Gyros",
          "Katerinas Café",
          "Guy's Gyros",
          "Ouzeri Elian",
          "Katerinas Café",
          "Gelatogalore",
          "General Grocer",
          "Hippokampos",
          "Guy's Gyros",
          "Frydos Autosupply n' More",
          "Guy's Gyros",
          "Ouzeri Elian",
          "Guy's Gyros",
          "Katerinas Café",
          "Albert's Fine Clothing",
          "Shoppers' Delight",
          "Ahaggo Museum",
          "Guy's Gyros",
          "Frydos Autosupply n' More",
          "Katerinas Café",
          "Abila Zacharo",
          "Guy's Gyros",
          "Desafio Golf Course",
          "Guy's Gyros",
          "Desafio Golf Course",
          "Hippokampos",
          "Guy's Gyros",
          "Frydos Autosupply n' More",
          "Katerinas Café",
          "Guy's Gyros",
          "Katerinas Café",
          "Desafio Golf Course",
          "Hippokampos"
         ],
         "xaxis": "x",
         "yaxis": "y"
        }
       ],
       "layout": {
        "bargap": 0.2,
        "barmode": "relative",
        "legend": {
         "tracegroupgap": 0
        },
        "template": {
         "data": {
          "bar": [
           {
            "error_x": {
             "color": "#2a3f5f"
            },
            "error_y": {
             "color": "#2a3f5f"
            },
            "marker": {
             "line": {
              "color": "#E5ECF6",
              "width": 0.5
             },
             "pattern": {
              "fillmode": "overlay",
              "size": 10,
              "solidity": 0.2
             }
            },
            "type": "bar"
           }
          ],
          "barpolar": [
           {
            "marker": {
             "line": {
              "color": "#E5ECF6",
              "width": 0.5
             },
             "pattern": {
              "fillmode": "overlay",
              "size": 10,
              "solidity": 0.2
             }
            },
            "type": "barpolar"
           }
          ],
          "carpet": [
           {
            "aaxis": {
             "endlinecolor": "#2a3f5f",
             "gridcolor": "white",
             "linecolor": "white",
             "minorgridcolor": "white",
             "startlinecolor": "#2a3f5f"
            },
            "baxis": {
             "endlinecolor": "#2a3f5f",
             "gridcolor": "white",
             "linecolor": "white",
             "minorgridcolor": "white",
             "startlinecolor": "#2a3f5f"
            },
            "type": "carpet"
           }
          ],
          "choropleth": [
           {
            "colorbar": {
             "outlinewidth": 0,
             "ticks": ""
            },
            "type": "choropleth"
           }
          ],
          "contour": [
           {
            "colorbar": {
             "outlinewidth": 0,
             "ticks": ""
            },
            "colorscale": [
             [
              0,
              "#0d0887"
             ],
             [
              0.1111111111111111,
              "#46039f"
             ],
             [
              0.2222222222222222,
              "#7201a8"
             ],
             [
              0.3333333333333333,
              "#9c179e"
             ],
             [
              0.4444444444444444,
              "#bd3786"
             ],
             [
              0.5555555555555556,
              "#d8576b"
             ],
             [
              0.6666666666666666,
              "#ed7953"
             ],
             [
              0.7777777777777778,
              "#fb9f3a"
             ],
             [
              0.8888888888888888,
              "#fdca26"
             ],
             [
              1,
              "#f0f921"
             ]
            ],
            "type": "contour"
           }
          ],
          "contourcarpet": [
           {
            "colorbar": {
             "outlinewidth": 0,
             "ticks": ""
            },
            "type": "contourcarpet"
           }
          ],
          "heatmap": [
           {
            "colorbar": {
             "outlinewidth": 0,
             "ticks": ""
            },
            "colorscale": [
             [
              0,
              "#0d0887"
             ],
             [
              0.1111111111111111,
              "#46039f"
             ],
             [
              0.2222222222222222,
              "#7201a8"
             ],
             [
              0.3333333333333333,
              "#9c179e"
             ],
             [
              0.4444444444444444,
              "#bd3786"
             ],
             [
              0.5555555555555556,
              "#d8576b"
             ],
             [
              0.6666666666666666,
              "#ed7953"
             ],
             [
              0.7777777777777778,
              "#fb9f3a"
             ],
             [
              0.8888888888888888,
              "#fdca26"
             ],
             [
              1,
              "#f0f921"
             ]
            ],
            "type": "heatmap"
           }
          ],
          "heatmapgl": [
           {
            "colorbar": {
             "outlinewidth": 0,
             "ticks": ""
            },
            "colorscale": [
             [
              0,
              "#0d0887"
             ],
             [
              0.1111111111111111,
              "#46039f"
             ],
             [
              0.2222222222222222,
              "#7201a8"
             ],
             [
              0.3333333333333333,
              "#9c179e"
             ],
             [
              0.4444444444444444,
              "#bd3786"
             ],
             [
              0.5555555555555556,
              "#d8576b"
             ],
             [
              0.6666666666666666,
              "#ed7953"
             ],
             [
              0.7777777777777778,
              "#fb9f3a"
             ],
             [
              0.8888888888888888,
              "#fdca26"
             ],
             [
              1,
              "#f0f921"
             ]
            ],
            "type": "heatmapgl"
           }
          ],
          "histogram": [
           {
            "marker": {
             "pattern": {
              "fillmode": "overlay",
              "size": 10,
              "solidity": 0.2
             }
            },
            "type": "histogram"
           }
          ],
          "histogram2d": [
           {
            "colorbar": {
             "outlinewidth": 0,
             "ticks": ""
            },
            "colorscale": [
             [
              0,
              "#0d0887"
             ],
             [
              0.1111111111111111,
              "#46039f"
             ],
             [
              0.2222222222222222,
              "#7201a8"
             ],
             [
              0.3333333333333333,
              "#9c179e"
             ],
             [
              0.4444444444444444,
              "#bd3786"
             ],
             [
              0.5555555555555556,
              "#d8576b"
             ],
             [
              0.6666666666666666,
              "#ed7953"
             ],
             [
              0.7777777777777778,
              "#fb9f3a"
             ],
             [
              0.8888888888888888,
              "#fdca26"
             ],
             [
              1,
              "#f0f921"
             ]
            ],
            "type": "histogram2d"
           }
          ],
          "histogram2dcontour": [
           {
            "colorbar": {
             "outlinewidth": 0,
             "ticks": ""
            },
            "colorscale": [
             [
              0,
              "#0d0887"
             ],
             [
              0.1111111111111111,
              "#46039f"
             ],
             [
              0.2222222222222222,
              "#7201a8"
             ],
             [
              0.3333333333333333,
              "#9c179e"
             ],
             [
              0.4444444444444444,
              "#bd3786"
             ],
             [
              0.5555555555555556,
              "#d8576b"
             ],
             [
              0.6666666666666666,
              "#ed7953"
             ],
             [
              0.7777777777777778,
              "#fb9f3a"
             ],
             [
              0.8888888888888888,
              "#fdca26"
             ],
             [
              1,
              "#f0f921"
             ]
            ],
            "type": "histogram2dcontour"
           }
          ],
          "mesh3d": [
           {
            "colorbar": {
             "outlinewidth": 0,
             "ticks": ""
            },
            "type": "mesh3d"
           }
          ],
          "parcoords": [
           {
            "line": {
             "colorbar": {
              "outlinewidth": 0,
              "ticks": ""
             }
            },
            "type": "parcoords"
           }
          ],
          "pie": [
           {
            "automargin": true,
            "type": "pie"
           }
          ],
          "scatter": [
           {
            "fillpattern": {
             "fillmode": "overlay",
             "size": 10,
             "solidity": 0.2
            },
            "type": "scatter"
           }
          ],
          "scatter3d": [
           {
            "line": {
             "colorbar": {
              "outlinewidth": 0,
              "ticks": ""
             }
            },
            "marker": {
             "colorbar": {
              "outlinewidth": 0,
              "ticks": ""
             }
            },
            "type": "scatter3d"
           }
          ],
          "scattercarpet": [
           {
            "marker": {
             "colorbar": {
              "outlinewidth": 0,
              "ticks": ""
             }
            },
            "type": "scattercarpet"
           }
          ],
          "scattergeo": [
           {
            "marker": {
             "colorbar": {
              "outlinewidth": 0,
              "ticks": ""
             }
            },
            "type": "scattergeo"
           }
          ],
          "scattergl": [
           {
            "marker": {
             "colorbar": {
              "outlinewidth": 0,
              "ticks": ""
             }
            },
            "type": "scattergl"
           }
          ],
          "scattermapbox": [
           {
            "marker": {
             "colorbar": {
              "outlinewidth": 0,
              "ticks": ""
             }
            },
            "type": "scattermapbox"
           }
          ],
          "scatterpolar": [
           {
            "marker": {
             "colorbar": {
              "outlinewidth": 0,
              "ticks": ""
             }
            },
            "type": "scatterpolar"
           }
          ],
          "scatterpolargl": [
           {
            "marker": {
             "colorbar": {
              "outlinewidth": 0,
              "ticks": ""
             }
            },
            "type": "scatterpolargl"
           }
          ],
          "scatterternary": [
           {
            "marker": {
             "colorbar": {
              "outlinewidth": 0,
              "ticks": ""
             }
            },
            "type": "scatterternary"
           }
          ],
          "surface": [
           {
            "colorbar": {
             "outlinewidth": 0,
             "ticks": ""
            },
            "colorscale": [
             [
              0,
              "#0d0887"
             ],
             [
              0.1111111111111111,
              "#46039f"
             ],
             [
              0.2222222222222222,
              "#7201a8"
             ],
             [
              0.3333333333333333,
              "#9c179e"
             ],
             [
              0.4444444444444444,
              "#bd3786"
             ],
             [
              0.5555555555555556,
              "#d8576b"
             ],
             [
              0.6666666666666666,
              "#ed7953"
             ],
             [
              0.7777777777777778,
              "#fb9f3a"
             ],
             [
              0.8888888888888888,
              "#fdca26"
             ],
             [
              1,
              "#f0f921"
             ]
            ],
            "type": "surface"
           }
          ],
          "table": [
           {
            "cells": {
             "fill": {
              "color": "#EBF0F8"
             },
             "line": {
              "color": "white"
             }
            },
            "header": {
             "fill": {
              "color": "#C8D4E3"
             },
             "line": {
              "color": "white"
             }
            },
            "type": "table"
           }
          ]
         },
         "layout": {
          "annotationdefaults": {
           "arrowcolor": "#2a3f5f",
           "arrowhead": 0,
           "arrowwidth": 1
          },
          "autotypenumbers": "strict",
          "coloraxis": {
           "colorbar": {
            "outlinewidth": 0,
            "ticks": ""
           }
          },
          "colorscale": {
           "diverging": [
            [
             0,
             "#8e0152"
            ],
            [
             0.1,
             "#c51b7d"
            ],
            [
             0.2,
             "#de77ae"
            ],
            [
             0.3,
             "#f1b6da"
            ],
            [
             0.4,
             "#fde0ef"
            ],
            [
             0.5,
             "#f7f7f7"
            ],
            [
             0.6,
             "#e6f5d0"
            ],
            [
             0.7,
             "#b8e186"
            ],
            [
             0.8,
             "#7fbc41"
            ],
            [
             0.9,
             "#4d9221"
            ],
            [
             1,
             "#276419"
            ]
           ],
           "sequential": [
            [
             0,
             "#0d0887"
            ],
            [
             0.1111111111111111,
             "#46039f"
            ],
            [
             0.2222222222222222,
             "#7201a8"
            ],
            [
             0.3333333333333333,
             "#9c179e"
            ],
            [
             0.4444444444444444,
             "#bd3786"
            ],
            [
             0.5555555555555556,
             "#d8576b"
            ],
            [
             0.6666666666666666,
             "#ed7953"
            ],
            [
             0.7777777777777778,
             "#fb9f3a"
            ],
            [
             0.8888888888888888,
             "#fdca26"
            ],
            [
             1,
             "#f0f921"
            ]
           ],
           "sequentialminus": [
            [
             0,
             "#0d0887"
            ],
            [
             0.1111111111111111,
             "#46039f"
            ],
            [
             0.2222222222222222,
             "#7201a8"
            ],
            [
             0.3333333333333333,
             "#9c179e"
            ],
            [
             0.4444444444444444,
             "#bd3786"
            ],
            [
             0.5555555555555556,
             "#d8576b"
            ],
            [
             0.6666666666666666,
             "#ed7953"
            ],
            [
             0.7777777777777778,
             "#fb9f3a"
            ],
            [
             0.8888888888888888,
             "#fdca26"
            ],
            [
             1,
             "#f0f921"
            ]
           ]
          },
          "colorway": [
           "#636efa",
           "#EF553B",
           "#00cc96",
           "#ab63fa",
           "#FFA15A",
           "#19d3f3",
           "#FF6692",
           "#B6E880",
           "#FF97FF",
           "#FECB52"
          ],
          "font": {
           "color": "#2a3f5f"
          },
          "geo": {
           "bgcolor": "white",
           "lakecolor": "white",
           "landcolor": "#E5ECF6",
           "showlakes": true,
           "showland": true,
           "subunitcolor": "white"
          },
          "hoverlabel": {
           "align": "left"
          },
          "hovermode": "closest",
          "mapbox": {
           "style": "light"
          },
          "paper_bgcolor": "white",
          "plot_bgcolor": "#E5ECF6",
          "polar": {
           "angularaxis": {
            "gridcolor": "white",
            "linecolor": "white",
            "ticks": ""
           },
           "bgcolor": "#E5ECF6",
           "radialaxis": {
            "gridcolor": "white",
            "linecolor": "white",
            "ticks": ""
           }
          },
          "scene": {
           "xaxis": {
            "backgroundcolor": "#E5ECF6",
            "gridcolor": "white",
            "gridwidth": 2,
            "linecolor": "white",
            "showbackground": true,
            "ticks": "",
            "zerolinecolor": "white"
           },
           "yaxis": {
            "backgroundcolor": "#E5ECF6",
            "gridcolor": "white",
            "gridwidth": 2,
            "linecolor": "white",
            "showbackground": true,
            "ticks": "",
            "zerolinecolor": "white"
           },
           "zaxis": {
            "backgroundcolor": "#E5ECF6",
            "gridcolor": "white",
            "gridwidth": 2,
            "linecolor": "white",
            "showbackground": true,
            "ticks": "",
            "zerolinecolor": "white"
           }
          },
          "shapedefaults": {
           "line": {
            "color": "#2a3f5f"
           }
          },
          "ternary": {
           "aaxis": {
            "gridcolor": "white",
            "linecolor": "white",
            "ticks": ""
           },
           "baxis": {
            "gridcolor": "white",
            "linecolor": "white",
            "ticks": ""
           },
           "bgcolor": "#E5ECF6",
           "caxis": {
            "gridcolor": "white",
            "linecolor": "white",
            "ticks": ""
           }
          },
          "title": {
           "x": 0.05
          },
          "xaxis": {
           "automargin": true,
           "gridcolor": "white",
           "linecolor": "white",
           "ticks": "",
           "title": {
            "standoff": 15
           },
           "zerolinecolor": "white",
           "zerolinewidth": 2
          },
          "yaxis": {
           "automargin": true,
           "gridcolor": "white",
           "linecolor": "white",
           "ticks": "",
           "title": {
            "standoff": 15
           },
           "zerolinecolor": "white",
           "zerolinewidth": 2
          }
         }
        },
        "title": {
         "text": "Number of Transactions by Location"
        },
        "xaxis": {
         "anchor": "y",
         "categoryarray": [
          "Katerinas Café",
          "Hippokampos",
          "Guy's Gyros",
          "Brew've Been Served",
          "Hallowed Grounds",
          "Ouzeri Elian",
          "Abila Zacharo",
          "Kalami Kafenion",
          "Gelatogalore",
          "Bean There Done That",
          "Frydos Autosupply n' More",
          "Coffee Cameleon",
          "Jack's Magical Beans",
          "Brewed Awakenings",
          "Abila Airport",
          "Albert's Fine Clothing",
          "Nationwide Refinery",
          "Shoppers' Delight",
          "Carlyle Chemical Inc.",
          "Stewart and Sons Fabrication",
          "General Grocer",
          "Kronos Mart",
          "Coffee Shack",
          "Chostus Hotel",
          "Desafio Golf Course",
          "Roberts and Sons",
          "Kronos Pipe and Irrigation",
          "Maximum Iron and Steel",
          "Ahaggo Museum",
          "Abila Scrapyard",
          "Octavio's Office Supplies",
          "Frank's Fuel",
          "U-Pump",
          "Daily Dealz"
         ],
         "categoryorder": "array",
         "domain": [
          0,
          1
         ],
         "title": {
          "text": "Location"
         }
        },
        "yaxis": {
         "anchor": "x",
         "domain": [
          0,
          1
         ],
         "title": {
          "text": "count"
         }
        }
       }
      }
     },
     "metadata": {},
     "output_type": "display_data"
    }
   ],
   "source": [
    "import plotly.express as px\n",
    "import pandas as pd\n",
    "\n",
    "data = pd.read_csv('cc_loy.csv')\n",
    "\n",
    "fig_histogram = px.histogram(data, x='location',\n",
    "                             title='Number of Transactions by Location',\n",
    "                             labels={'location': 'Location'},\n",
    "                             category_orders={'location': data['location'].value_counts().index.tolist()})  # 按照交易数量排序\n",
    "\n",
    "fig_histogram.update_layout(bargap=0.2)\n",
    "fig_histogram.show()\n"
   ]
  },
  {
   "cell_type": "code",
   "execution_count": 30,
   "metadata": {},
   "outputs": [
    {
     "name": "stdout",
     "output_type": "stream",
     "text": [
      "Katerina’s Café transaction count: 407\n"
     ]
    },
    {
     "name": "stderr",
     "output_type": "stream",
     "text": [
      "C:\\Users\\17456\\AppData\\Local\\Temp\\ipykernel_11964\\279959315.py:15: SettingWithCopyWarning:\n",
      "\n",
      "\n",
      "A value is trying to be set on a copy of a slice from a DataFrame.\n",
      "Try using .loc[row_indexer,col_indexer] = value instead\n",
      "\n",
      "See the caveats in the documentation: https://pandas.pydata.org/pandas-docs/stable/user_guide/indexing.html#returning-a-view-versus-a-copy\n",
      "\n"
     ]
    },
    {
     "data": {
      "application/vnd.plotly.v1+json": {
       "config": {
        "plotlyServerURL": "https://plot.ly"
       },
       "data": [
        {
         "alignmentgroup": "True",
         "hovertemplate": "location=Brew've Been Served<br>Hour of the Day=%{x}<br>Number of Transactions=%{y}<extra></extra>",
         "legendgroup": "Brew've Been Served",
         "marker": {
          "color": "#636efa",
          "pattern": {
           "shape": ""
          }
         },
         "name": "Brew've Been Served",
         "offsetgroup": "Brew've Been Served",
         "orientation": "v",
         "showlegend": true,
         "textposition": "auto",
         "type": "bar",
         "x": [
          7,
          8
         ],
         "xaxis": "x",
         "y": [
          93,
          63
         ],
         "yaxis": "y"
        },
        {
         "alignmentgroup": "True",
         "hovertemplate": "location=Guy's Gyros<br>Hour of the Day=%{x}<br>Number of Transactions=%{y}<extra></extra>",
         "legendgroup": "Guy's Gyros",
         "marker": {
          "color": "#EF553B",
          "pattern": {
           "shape": ""
          }
         },
         "name": "Guy's Gyros",
         "offsetgroup": "Guy's Gyros",
         "orientation": "v",
         "showlegend": true,
         "textposition": "auto",
         "type": "bar",
         "x": [
          13,
          14,
          19,
          20,
          21
         ],
         "xaxis": "x",
         "y": [
          50,
          12,
          31,
          59,
          6
         ],
         "yaxis": "y"
        },
        {
         "alignmentgroup": "True",
         "hovertemplate": "location=Hippokampos<br>Hour of the Day=%{x}<br>Number of Transactions=%{y}<extra></extra>",
         "legendgroup": "Hippokampos",
         "marker": {
          "color": "#00cc96",
          "pattern": {
           "shape": ""
          }
         },
         "name": "Hippokampos",
         "offsetgroup": "Hippokampos",
         "orientation": "v",
         "showlegend": true,
         "textposition": "auto",
         "type": "bar",
         "x": [
          12,
          13,
          14,
          19,
          20,
          21,
          22
         ],
         "xaxis": "x",
         "y": [
          2,
          66,
          11,
          27,
          43,
          21,
          1
         ],
         "yaxis": "y"
        },
        {
         "alignmentgroup": "True",
         "hovertemplate": "location=Katerinas Café<br>Hour of the Day=%{x}<br>Number of Transactions=%{y}<extra></extra>",
         "legendgroup": "Katerinas Café",
         "marker": {
          "color": "#ab63fa",
          "pattern": {
           "shape": ""
          }
         },
         "name": "Katerinas Café",
         "offsetgroup": "Katerinas Café",
         "orientation": "v",
         "showlegend": true,
         "textposition": "auto",
         "type": "bar",
         "x": [
          12,
          13,
          14,
          18,
          19,
          20,
          21
         ],
         "xaxis": "x",
         "y": [
          1,
          61,
          13,
          3,
          36,
          84,
          14
         ],
         "yaxis": "y"
        }
       ],
       "layout": {
        "barmode": "group",
        "legend": {
         "title": {
          "text": "location"
         },
         "tracegroupgap": 0
        },
        "template": {
         "data": {
          "bar": [
           {
            "error_x": {
             "color": "#2a3f5f"
            },
            "error_y": {
             "color": "#2a3f5f"
            },
            "marker": {
             "line": {
              "color": "#E5ECF6",
              "width": 0.5
             },
             "pattern": {
              "fillmode": "overlay",
              "size": 10,
              "solidity": 0.2
             }
            },
            "type": "bar"
           }
          ],
          "barpolar": [
           {
            "marker": {
             "line": {
              "color": "#E5ECF6",
              "width": 0.5
             },
             "pattern": {
              "fillmode": "overlay",
              "size": 10,
              "solidity": 0.2
             }
            },
            "type": "barpolar"
           }
          ],
          "carpet": [
           {
            "aaxis": {
             "endlinecolor": "#2a3f5f",
             "gridcolor": "white",
             "linecolor": "white",
             "minorgridcolor": "white",
             "startlinecolor": "#2a3f5f"
            },
            "baxis": {
             "endlinecolor": "#2a3f5f",
             "gridcolor": "white",
             "linecolor": "white",
             "minorgridcolor": "white",
             "startlinecolor": "#2a3f5f"
            },
            "type": "carpet"
           }
          ],
          "choropleth": [
           {
            "colorbar": {
             "outlinewidth": 0,
             "ticks": ""
            },
            "type": "choropleth"
           }
          ],
          "contour": [
           {
            "colorbar": {
             "outlinewidth": 0,
             "ticks": ""
            },
            "colorscale": [
             [
              0,
              "#0d0887"
             ],
             [
              0.1111111111111111,
              "#46039f"
             ],
             [
              0.2222222222222222,
              "#7201a8"
             ],
             [
              0.3333333333333333,
              "#9c179e"
             ],
             [
              0.4444444444444444,
              "#bd3786"
             ],
             [
              0.5555555555555556,
              "#d8576b"
             ],
             [
              0.6666666666666666,
              "#ed7953"
             ],
             [
              0.7777777777777778,
              "#fb9f3a"
             ],
             [
              0.8888888888888888,
              "#fdca26"
             ],
             [
              1,
              "#f0f921"
             ]
            ],
            "type": "contour"
           }
          ],
          "contourcarpet": [
           {
            "colorbar": {
             "outlinewidth": 0,
             "ticks": ""
            },
            "type": "contourcarpet"
           }
          ],
          "heatmap": [
           {
            "colorbar": {
             "outlinewidth": 0,
             "ticks": ""
            },
            "colorscale": [
             [
              0,
              "#0d0887"
             ],
             [
              0.1111111111111111,
              "#46039f"
             ],
             [
              0.2222222222222222,
              "#7201a8"
             ],
             [
              0.3333333333333333,
              "#9c179e"
             ],
             [
              0.4444444444444444,
              "#bd3786"
             ],
             [
              0.5555555555555556,
              "#d8576b"
             ],
             [
              0.6666666666666666,
              "#ed7953"
             ],
             [
              0.7777777777777778,
              "#fb9f3a"
             ],
             [
              0.8888888888888888,
              "#fdca26"
             ],
             [
              1,
              "#f0f921"
             ]
            ],
            "type": "heatmap"
           }
          ],
          "heatmapgl": [
           {
            "colorbar": {
             "outlinewidth": 0,
             "ticks": ""
            },
            "colorscale": [
             [
              0,
              "#0d0887"
             ],
             [
              0.1111111111111111,
              "#46039f"
             ],
             [
              0.2222222222222222,
              "#7201a8"
             ],
             [
              0.3333333333333333,
              "#9c179e"
             ],
             [
              0.4444444444444444,
              "#bd3786"
             ],
             [
              0.5555555555555556,
              "#d8576b"
             ],
             [
              0.6666666666666666,
              "#ed7953"
             ],
             [
              0.7777777777777778,
              "#fb9f3a"
             ],
             [
              0.8888888888888888,
              "#fdca26"
             ],
             [
              1,
              "#f0f921"
             ]
            ],
            "type": "heatmapgl"
           }
          ],
          "histogram": [
           {
            "marker": {
             "pattern": {
              "fillmode": "overlay",
              "size": 10,
              "solidity": 0.2
             }
            },
            "type": "histogram"
           }
          ],
          "histogram2d": [
           {
            "colorbar": {
             "outlinewidth": 0,
             "ticks": ""
            },
            "colorscale": [
             [
              0,
              "#0d0887"
             ],
             [
              0.1111111111111111,
              "#46039f"
             ],
             [
              0.2222222222222222,
              "#7201a8"
             ],
             [
              0.3333333333333333,
              "#9c179e"
             ],
             [
              0.4444444444444444,
              "#bd3786"
             ],
             [
              0.5555555555555556,
              "#d8576b"
             ],
             [
              0.6666666666666666,
              "#ed7953"
             ],
             [
              0.7777777777777778,
              "#fb9f3a"
             ],
             [
              0.8888888888888888,
              "#fdca26"
             ],
             [
              1,
              "#f0f921"
             ]
            ],
            "type": "histogram2d"
           }
          ],
          "histogram2dcontour": [
           {
            "colorbar": {
             "outlinewidth": 0,
             "ticks": ""
            },
            "colorscale": [
             [
              0,
              "#0d0887"
             ],
             [
              0.1111111111111111,
              "#46039f"
             ],
             [
              0.2222222222222222,
              "#7201a8"
             ],
             [
              0.3333333333333333,
              "#9c179e"
             ],
             [
              0.4444444444444444,
              "#bd3786"
             ],
             [
              0.5555555555555556,
              "#d8576b"
             ],
             [
              0.6666666666666666,
              "#ed7953"
             ],
             [
              0.7777777777777778,
              "#fb9f3a"
             ],
             [
              0.8888888888888888,
              "#fdca26"
             ],
             [
              1,
              "#f0f921"
             ]
            ],
            "type": "histogram2dcontour"
           }
          ],
          "mesh3d": [
           {
            "colorbar": {
             "outlinewidth": 0,
             "ticks": ""
            },
            "type": "mesh3d"
           }
          ],
          "parcoords": [
           {
            "line": {
             "colorbar": {
              "outlinewidth": 0,
              "ticks": ""
             }
            },
            "type": "parcoords"
           }
          ],
          "pie": [
           {
            "automargin": true,
            "type": "pie"
           }
          ],
          "scatter": [
           {
            "fillpattern": {
             "fillmode": "overlay",
             "size": 10,
             "solidity": 0.2
            },
            "type": "scatter"
           }
          ],
          "scatter3d": [
           {
            "line": {
             "colorbar": {
              "outlinewidth": 0,
              "ticks": ""
             }
            },
            "marker": {
             "colorbar": {
              "outlinewidth": 0,
              "ticks": ""
             }
            },
            "type": "scatter3d"
           }
          ],
          "scattercarpet": [
           {
            "marker": {
             "colorbar": {
              "outlinewidth": 0,
              "ticks": ""
             }
            },
            "type": "scattercarpet"
           }
          ],
          "scattergeo": [
           {
            "marker": {
             "colorbar": {
              "outlinewidth": 0,
              "ticks": ""
             }
            },
            "type": "scattergeo"
           }
          ],
          "scattergl": [
           {
            "marker": {
             "colorbar": {
              "outlinewidth": 0,
              "ticks": ""
             }
            },
            "type": "scattergl"
           }
          ],
          "scattermapbox": [
           {
            "marker": {
             "colorbar": {
              "outlinewidth": 0,
              "ticks": ""
             }
            },
            "type": "scattermapbox"
           }
          ],
          "scatterpolar": [
           {
            "marker": {
             "colorbar": {
              "outlinewidth": 0,
              "ticks": ""
             }
            },
            "type": "scatterpolar"
           }
          ],
          "scatterpolargl": [
           {
            "marker": {
             "colorbar": {
              "outlinewidth": 0,
              "ticks": ""
             }
            },
            "type": "scatterpolargl"
           }
          ],
          "scatterternary": [
           {
            "marker": {
             "colorbar": {
              "outlinewidth": 0,
              "ticks": ""
             }
            },
            "type": "scatterternary"
           }
          ],
          "surface": [
           {
            "colorbar": {
             "outlinewidth": 0,
             "ticks": ""
            },
            "colorscale": [
             [
              0,
              "#0d0887"
             ],
             [
              0.1111111111111111,
              "#46039f"
             ],
             [
              0.2222222222222222,
              "#7201a8"
             ],
             [
              0.3333333333333333,
              "#9c179e"
             ],
             [
              0.4444444444444444,
              "#bd3786"
             ],
             [
              0.5555555555555556,
              "#d8576b"
             ],
             [
              0.6666666666666666,
              "#ed7953"
             ],
             [
              0.7777777777777778,
              "#fb9f3a"
             ],
             [
              0.8888888888888888,
              "#fdca26"
             ],
             [
              1,
              "#f0f921"
             ]
            ],
            "type": "surface"
           }
          ],
          "table": [
           {
            "cells": {
             "fill": {
              "color": "#EBF0F8"
             },
             "line": {
              "color": "white"
             }
            },
            "header": {
             "fill": {
              "color": "#C8D4E3"
             },
             "line": {
              "color": "white"
             }
            },
            "type": "table"
           }
          ]
         },
         "layout": {
          "annotationdefaults": {
           "arrowcolor": "#2a3f5f",
           "arrowhead": 0,
           "arrowwidth": 1
          },
          "autotypenumbers": "strict",
          "coloraxis": {
           "colorbar": {
            "outlinewidth": 0,
            "ticks": ""
           }
          },
          "colorscale": {
           "diverging": [
            [
             0,
             "#8e0152"
            ],
            [
             0.1,
             "#c51b7d"
            ],
            [
             0.2,
             "#de77ae"
            ],
            [
             0.3,
             "#f1b6da"
            ],
            [
             0.4,
             "#fde0ef"
            ],
            [
             0.5,
             "#f7f7f7"
            ],
            [
             0.6,
             "#e6f5d0"
            ],
            [
             0.7,
             "#b8e186"
            ],
            [
             0.8,
             "#7fbc41"
            ],
            [
             0.9,
             "#4d9221"
            ],
            [
             1,
             "#276419"
            ]
           ],
           "sequential": [
            [
             0,
             "#0d0887"
            ],
            [
             0.1111111111111111,
             "#46039f"
            ],
            [
             0.2222222222222222,
             "#7201a8"
            ],
            [
             0.3333333333333333,
             "#9c179e"
            ],
            [
             0.4444444444444444,
             "#bd3786"
            ],
            [
             0.5555555555555556,
             "#d8576b"
            ],
            [
             0.6666666666666666,
             "#ed7953"
            ],
            [
             0.7777777777777778,
             "#fb9f3a"
            ],
            [
             0.8888888888888888,
             "#fdca26"
            ],
            [
             1,
             "#f0f921"
            ]
           ],
           "sequentialminus": [
            [
             0,
             "#0d0887"
            ],
            [
             0.1111111111111111,
             "#46039f"
            ],
            [
             0.2222222222222222,
             "#7201a8"
            ],
            [
             0.3333333333333333,
             "#9c179e"
            ],
            [
             0.4444444444444444,
             "#bd3786"
            ],
            [
             0.5555555555555556,
             "#d8576b"
            ],
            [
             0.6666666666666666,
             "#ed7953"
            ],
            [
             0.7777777777777778,
             "#fb9f3a"
            ],
            [
             0.8888888888888888,
             "#fdca26"
            ],
            [
             1,
             "#f0f921"
            ]
           ]
          },
          "colorway": [
           "#636efa",
           "#EF553B",
           "#00cc96",
           "#ab63fa",
           "#FFA15A",
           "#19d3f3",
           "#FF6692",
           "#B6E880",
           "#FF97FF",
           "#FECB52"
          ],
          "font": {
           "color": "#2a3f5f"
          },
          "geo": {
           "bgcolor": "white",
           "lakecolor": "white",
           "landcolor": "#E5ECF6",
           "showlakes": true,
           "showland": true,
           "subunitcolor": "white"
          },
          "hoverlabel": {
           "align": "left"
          },
          "hovermode": "closest",
          "mapbox": {
           "style": "light"
          },
          "paper_bgcolor": "white",
          "plot_bgcolor": "#E5ECF6",
          "polar": {
           "angularaxis": {
            "gridcolor": "white",
            "linecolor": "white",
            "ticks": ""
           },
           "bgcolor": "#E5ECF6",
           "radialaxis": {
            "gridcolor": "white",
            "linecolor": "white",
            "ticks": ""
           }
          },
          "scene": {
           "xaxis": {
            "backgroundcolor": "#E5ECF6",
            "gridcolor": "white",
            "gridwidth": 2,
            "linecolor": "white",
            "showbackground": true,
            "ticks": "",
            "zerolinecolor": "white"
           },
           "yaxis": {
            "backgroundcolor": "#E5ECF6",
            "gridcolor": "white",
            "gridwidth": 2,
            "linecolor": "white",
            "showbackground": true,
            "ticks": "",
            "zerolinecolor": "white"
           },
           "zaxis": {
            "backgroundcolor": "#E5ECF6",
            "gridcolor": "white",
            "gridwidth": 2,
            "linecolor": "white",
            "showbackground": true,
            "ticks": "",
            "zerolinecolor": "white"
           }
          },
          "shapedefaults": {
           "line": {
            "color": "#2a3f5f"
           }
          },
          "ternary": {
           "aaxis": {
            "gridcolor": "white",
            "linecolor": "white",
            "ticks": ""
           },
           "baxis": {
            "gridcolor": "white",
            "linecolor": "white",
            "ticks": ""
           },
           "bgcolor": "#E5ECF6",
           "caxis": {
            "gridcolor": "white",
            "linecolor": "white",
            "ticks": ""
           }
          },
          "title": {
           "x": 0.05
          },
          "xaxis": {
           "automargin": true,
           "gridcolor": "white",
           "linecolor": "white",
           "ticks": "",
           "title": {
            "standoff": 15
           },
           "zerolinecolor": "white",
           "zerolinewidth": 2
          },
          "yaxis": {
           "automargin": true,
           "gridcolor": "white",
           "linecolor": "white",
           "ticks": "",
           "title": {
            "standoff": 15
           },
           "zerolinecolor": "white",
           "zerolinewidth": 2
          }
         }
        },
        "title": {
         "text": "Comparison of Transaction Volume by Hour and Location"
        },
        "xaxis": {
         "anchor": "y",
         "domain": [
          0,
          1
         ],
         "title": {
          "text": "Hour of the Day"
         }
        },
        "yaxis": {
         "anchor": "x",
         "domain": [
          0,
          1
         ],
         "title": {
          "text": "Number of Transactions"
         }
        }
       }
      }
     },
     "metadata": {},
     "output_type": "display_data"
    }
   ],
   "source": [
    "import plotly.express as px\n",
    "import pandas as pd\n",
    "\n",
    "# 载入数据\n",
    "data = pd.read_csv('cc_loy.csv')\n",
    "\n",
    "# 筛选特定地点的数据\n",
    "locations = [\"Katerinas Café\", \"Hippokampos\", \"Guy's Gyros\", \"Brew've Been Served\"]\n",
    "filtered_data = data[data['location'].isin(locations)]\n",
    "\n",
    "location_counts = filtered_data['location'].value_counts()\n",
    "print(\"Katerina’s Café transaction count:\", location_counts[\"Katerinas Café\"])\n",
    "\n",
    "# 将 'Hour' 列转换为数值类型（如果已经是数值类型，则此步骤不会改变任何内容）\n",
    "filtered_data['Hour'] = pd.to_numeric(filtered_data['Hour'], errors='coerce')\n",
    "\n",
    "# 按地点和小时聚合数据，计算每个地点每个小时的交易次数\n",
    "hourly_location_data = filtered_data.groupby(['location', 'Hour']).size().reset_index(name='transactions')\n",
    "\n",
    "# 创建时间序列柱状图\n",
    "fig = px.bar(hourly_location_data, x='Hour', y='transactions',\n",
    "             color='location', barmode='group',\n",
    "             labels={'Hour': 'Hour of the Day', 'transactions': 'Number of Transactions'},\n",
    "             title='Comparison of Transaction Volume by Hour and Location')\n",
    "fig.show()\n",
    "\n"
   ]
  },
  {
   "cell_type": "code",
   "execution_count": null,
   "metadata": {},
   "outputs": [],
   "source": []
  }
 ],
 "metadata": {
  "kernelspec": {
   "display_name": "Python 3",
   "language": "python",
   "name": "python3"
  },
  "language_info": {
   "codemirror_mode": {
    "name": "ipython",
    "version": 3
   },
   "file_extension": ".py",
   "mimetype": "text/x-python",
   "name": "python",
   "nbconvert_exporter": "python",
   "pygments_lexer": "ipython3",
   "version": "3.11.9"
  }
 },
 "nbformat": 4,
 "nbformat_minor": 2
}
